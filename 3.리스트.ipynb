{
 "cells": [
  {
   "cell_type": "code",
   "execution_count": 28,
   "id": "4e65446a-7551-4b5d-a4a1-be44743040aa",
   "metadata": {},
   "outputs": [
    {
     "data": {
      "text/plain": [
       "'C:\\\\Users\\\\305'"
      ]
     },
     "execution_count": 28,
     "metadata": {},
     "output_type": "execute_result"
    }
   ],
   "source": [
    "# 프로그램의 위치 찾기\n",
    "\n",
    "import os\n",
    "os.getcwd() # get Current Work Directory"
   ]
  },
  {
   "cell_type": "code",
   "execution_count": 3,
   "id": "2f7f8c13-89a6-4679-9ac4-894b0d25f90b",
   "metadata": {},
   "outputs": [
    {
     "data": {
      "text/plain": [
       "['삼성전자', 'SK하이닉스', '네이버']"
      ]
     },
     "execution_count": 3,
     "metadata": {},
     "output_type": "execute_result"
    }
   ],
   "source": [
    "company_list = [ '삼성전자', 'SK하이닉스', '네이버' ]\n",
    "company_list"
   ]
  },
  {
   "cell_type": "code",
   "execution_count": 4,
   "id": "6de8c1f9-97ba-4862-b517-71d80f1944a6",
   "metadata": {},
   "outputs": [
    {
     "name": "stdout",
     "output_type": "stream",
     "text": [
      "['삼성전자', 'SK하이닉스', '네이버']\n"
     ]
    }
   ],
   "source": [
    "print(company_list)"
   ]
  },
  {
   "cell_type": "code",
   "execution_count": 8,
   "id": "5ad486c8-5937-4dd0-a25e-8614280a8e3d",
   "metadata": {},
   "outputs": [
    {
     "data": {
      "text/plain": [
       "list"
      ]
     },
     "execution_count": 8,
     "metadata": {},
     "output_type": "execute_result"
    }
   ],
   "source": [
    "type(company_list)"
   ]
  },
  {
   "cell_type": "code",
   "execution_count": 18,
   "id": "1c626043-a5c5-4098-aad3-8bf8274b187e",
   "metadata": {},
   "outputs": [
    {
     "name": "stdout",
     "output_type": "stream",
     "text": [
      "삼성전자\n",
      "SK하이닉스\n",
      "SK하이닉스\n"
     ]
    }
   ],
   "source": [
    "print(company_list[0])\n",
    "print(company_list[1])\n",
    "print(company_list[-2])"
   ]
  },
  {
   "cell_type": "code",
   "execution_count": 20,
   "id": "1afb3f8d-9fb4-448d-a1d1-6dd1639e480b",
   "metadata": {},
   "outputs": [
    {
     "data": {
      "text/plain": [
       "['애플', '구글', '테슬라']"
      ]
     },
     "execution_count": 20,
     "metadata": {},
     "output_type": "execute_result"
    }
   ],
   "source": [
    "company_list[0] = '애플'\n",
    "company_list[1] = '구글'\n",
    "company_list[2] = '테슬라'\n",
    "company_list"
   ]
  },
  {
   "cell_type": "code",
   "execution_count": 22,
   "id": "163b3387-44f4-4c5d-a14d-236ada6f1200",
   "metadata": {},
   "outputs": [
    {
     "data": {
      "text/plain": [
       "['애플', '구글', '테슬라', '마이크로소프트', '마이크로소프트']"
      ]
     },
     "execution_count": 22,
     "metadata": {},
     "output_type": "execute_result"
    }
   ],
   "source": [
    "company_list.append('마이크로소프트')\n",
    "company_list"
   ]
  },
  {
   "cell_type": "code",
   "execution_count": 25,
   "id": "5603eb8b-46ad-4aa7-b426-01ccfabee7ba",
   "metadata": {},
   "outputs": [
    {
     "data": {
      "text/plain": [
       "['테슬라', '마이크로소프트', '마이크로소프트']"
      ]
     },
     "execution_count": 25,
     "metadata": {},
     "output_type": "execute_result"
    }
   ],
   "source": [
    "del company_list[0] # 리스트의 0번째 요소를 삭제\n",
    "company_list"
   ]
  },
  {
   "cell_type": "code",
   "execution_count": 26,
   "id": "2936cd9a-9d2d-444b-add1-8983270db1f9",
   "metadata": {},
   "outputs": [
    {
     "data": {
      "text/plain": [
       "3"
      ]
     },
     "execution_count": 26,
     "metadata": {},
     "output_type": "execute_result"
    }
   ],
   "source": [
    "len(company_list) # 리스트 요소의 갯수"
   ]
  },
  {
   "cell_type": "code",
   "execution_count": 29,
   "id": "5502b24f-1888-47c1-ad69-2c2d8b546a4f",
   "metadata": {},
   "outputs": [
    {
     "data": {
      "text/plain": [
       "[1, 2, 3, 4, 5, 6, 7, 8, 9]"
      ]
     },
     "execution_count": 29,
     "metadata": {},
     "output_type": "execute_result"
    }
   ],
   "source": [
    "num_list = [ 1, 2, 3, 4, 5, 6, 7, 8, 9 ]\n",
    "num_list"
   ]
  },
  {
   "cell_type": "code",
   "execution_count": 30,
   "id": "c47eb955-b249-4e74-99d7-a33c7edab6b6",
   "metadata": {},
   "outputs": [
    {
     "data": {
      "text/plain": [
       "1"
      ]
     },
     "execution_count": 30,
     "metadata": {},
     "output_type": "execute_result"
    }
   ],
   "source": [
    "num_list[0]"
   ]
  },
  {
   "cell_type": "code",
   "execution_count": 31,
   "id": "fc1e22c6-0d9d-411b-9d98-f949ce20be11",
   "metadata": {},
   "outputs": [
    {
     "data": {
      "text/plain": [
       "[1, 2, 3, 4]"
      ]
     },
     "execution_count": 31,
     "metadata": {},
     "output_type": "execute_result"
    }
   ],
   "source": [
    "num_list[0:4]"
   ]
  },
  {
   "cell_type": "code",
   "execution_count": 32,
   "id": "b2b0be3a-d15f-4c76-86a1-6ab10cfefae2",
   "metadata": {},
   "outputs": [
    {
     "data": {
      "text/plain": [
       "[1, 2, 3, 4]"
      ]
     },
     "execution_count": 32,
     "metadata": {},
     "output_type": "execute_result"
    }
   ],
   "source": [
    "num_list[:4]"
   ]
  },
  {
   "cell_type": "code",
   "execution_count": 34,
   "id": "2fdc9af7-ff62-4714-92fc-d89703c15c18",
   "metadata": {},
   "outputs": [
    {
     "data": {
      "text/plain": [
       "[3, 4, 5]"
      ]
     },
     "execution_count": 34,
     "metadata": {},
     "output_type": "execute_result"
    }
   ],
   "source": [
    "num_list[2:5]"
   ]
  },
  {
   "cell_type": "code",
   "execution_count": 39,
   "id": "fb6e107f-af65-46b4-947c-877634e2fd3b",
   "metadata": {},
   "outputs": [
    {
     "data": {
      "text/plain": [
       "[6, 7, 8, 9]"
      ]
     },
     "execution_count": 39,
     "metadata": {},
     "output_type": "execute_result"
    }
   ],
   "source": [
    "num_list[5:] # 증가치 생략"
   ]
  },
  {
   "cell_type": "code",
   "execution_count": 40,
   "id": "a97b149b-48cf-43d3-adb8-02591b8820da",
   "metadata": {},
   "outputs": [
    {
     "data": {
      "text/plain": [
       "[1, 4, 7]"
      ]
     },
     "execution_count": 40,
     "metadata": {},
     "output_type": "execute_result"
    }
   ],
   "source": [
    "num_list[::3] # 초기항목:목표항목-1:증가치"
   ]
  },
  {
   "cell_type": "code",
   "execution_count": 42,
   "id": "04a8ed51-97df-4f82-a966-d5be8f75a04d",
   "metadata": {},
   "outputs": [
    {
     "name": "stdout",
     "output_type": "stream",
     "text": [
      "대검을(를) 확인했습니다.\n",
      "창닫기\n",
      "포션을(를) 확인했습니다.\n",
      "창닫기\n",
      "마법서을(를) 확인했습니다.\n",
      "창닫기\n"
     ]
    }
   ],
   "source": [
    "inventory = [ '대검', '포션', '마법서' ]\n",
    "\n",
    "for item in inventory:\n",
    "    print(item + '을(를) 확인했습니다.')\n",
    "    print('창닫기')"
   ]
  },
  {
   "cell_type": "code",
   "execution_count": 58,
   "id": "40b7d5bd-2c44-450f-99ab-f776f05027e4",
   "metadata": {},
   "outputs": [],
   "source": [
    "game_map = [ # 리스트[ 리스트[ ], [ ], [ ] ]\n",
    "    ['대검', '포션', None],\n",
    "    [None, '보물상자', '포션'],\n",
    "    ['몬스터', '열쇠']\n",
    "]"
   ]
  },
  {
   "cell_type": "code",
   "execution_count": 59,
   "id": "38bca7f1-1794-411d-92c4-8cc34caae08f",
   "metadata": {},
   "outputs": [
    {
     "name": "stdout",
     "output_type": "stream",
     "text": [
      "['대검', '포션', None]\n",
      "item  대검\n",
      "item  포션\n",
      "item  None\n",
      "[None, '보물상자', '포션']\n",
      "item  None\n",
      "item  보물상자\n",
      "item  포션\n",
      "['몬스터', '열쇠']\n",
      "item  몬스터\n",
      "item  열쇠\n"
     ]
    }
   ],
   "source": [
    "for game in game_map:\n",
    "    print(game)\n",
    "    for item in game:\n",
    "        print('item ', item)"
   ]
  },
  {
   "cell_type": "code",
   "execution_count": 60,
   "id": "6031e0e8-127e-4f1f-9d82-3d25ef43de60",
   "metadata": {},
   "outputs": [
    {
     "data": {
      "text/plain": [
       "str"
      ]
     },
     "execution_count": 60,
     "metadata": {},
     "output_type": "execute_result"
    }
   ],
   "source": [
    "type(game_map[0][0])"
   ]
  },
  {
   "cell_type": "code",
   "execution_count": 61,
   "id": "44fe731d-3f3f-4cee-ae74-51627b5a839f",
   "metadata": {},
   "outputs": [
    {
     "ename": "IndexError",
     "evalue": "list index out of range",
     "output_type": "error",
     "traceback": [
      "\u001b[1;31m---------------------------------------------------------------------------\u001b[0m",
      "\u001b[1;31mIndexError\u001b[0m                                Traceback (most recent call last)",
      "Cell \u001b[1;32mIn[61], line 1\u001b[0m\n\u001b[1;32m----> 1\u001b[0m game_map[\u001b[38;5;241m2\u001b[39m][\u001b[38;5;241m2\u001b[39m]\n",
      "\u001b[1;31mIndexError\u001b[0m: list index out of range"
     ]
    }
   ],
   "source": [
    "game_map[2][2] # 주의해서 사용 할 것"
   ]
  },
  {
   "cell_type": "code",
   "execution_count": 62,
   "id": "9c216b1f-5371-400c-94c1-a0cbf9da8e6e",
   "metadata": {},
   "outputs": [
    {
     "name": "stdout",
     "output_type": "stream",
     "text": [
      "최고 점수 :  200\n"
     ]
    }
   ],
   "source": [
    "# 최고 점수 찾기\n",
    "scores = [ 120, 150, 180, 200, 170 ]\n",
    "max_score = 0\n",
    "\n",
    "for score in scores:\n",
    "    if score > max_score:\n",
    "        max_score = score\n",
    "        \n",
    "print('최고 점수 : ', max_score)"
   ]
  },
  {
   "cell_type": "code",
   "execution_count": 74,
   "id": "445b1e7c-4843-47cc-ba5b-c6d5ad367406",
   "metadata": {},
   "outputs": [],
   "source": [
    "def user_max(scores, max_score=0):\n",
    "    for score in scores:\n",
    "        if score > max_score:\n",
    "            max_score = score\n",
    "    return max_score"
   ]
  },
  {
   "cell_type": "code",
   "execution_count": 75,
   "id": "6bc37f2b-addc-459b-904a-f3aae44c6f27",
   "metadata": {},
   "outputs": [
    {
     "data": {
      "text/plain": [
       "200"
      ]
     },
     "execution_count": 75,
     "metadata": {},
     "output_type": "execute_result"
    }
   ],
   "source": [
    "scores = [ 120, 150, 180, 200, 170 ]\n",
    "user_max(scores)"
   ]
  },
  {
   "cell_type": "code",
   "execution_count": 63,
   "id": "7b1043e1-23bc-4bb2-af3c-096aed81e0cf",
   "metadata": {},
   "outputs": [
    {
     "data": {
      "text/plain": [
       "200"
      ]
     },
     "execution_count": 63,
     "metadata": {},
     "output_type": "execute_result"
    }
   ],
   "source": [
    "max(scores)"
   ]
  },
  {
   "cell_type": "code",
   "execution_count": 64,
   "id": "af371e64-6f0f-4270-a581-9f88e7953a5b",
   "metadata": {},
   "outputs": [
    {
     "data": {
      "text/plain": [
       "120"
      ]
     },
     "execution_count": 64,
     "metadata": {},
     "output_type": "execute_result"
    }
   ],
   "source": [
    "min(scores)"
   ]
  },
  {
   "cell_type": "code",
   "execution_count": 67,
   "id": "a981893a-3eec-4849-ac27-cb3fcfa0c6b6",
   "metadata": {},
   "outputs": [],
   "source": [
    "# 실습 문제 : 합계 구하기\n",
    "\n",
    "rooms = [\n",
    "    [3, 1, 2],\n",
    "    [2, 0, 1],\n",
    "    [1, 3, 4]\n",
    "]"
   ]
  },
  {
   "cell_type": "code",
   "execution_count": 68,
   "id": "4d87b712-7dce-4c9e-aaeb-0588335691d3",
   "metadata": {},
   "outputs": [
    {
     "name": "stdout",
     "output_type": "stream",
     "text": [
      "합계 :  17\n"
     ]
    }
   ],
   "source": [
    "total = 0\n",
    "for room in rooms:\n",
    "    for i in room:\n",
    "        total = total + i\n",
    "\n",
    "print('합계 : ', total)"
   ]
  },
  {
   "cell_type": "code",
   "execution_count": 70,
   "id": "2fc29bd4-ab92-4ecb-90d5-b9452b58d9c1",
   "metadata": {},
   "outputs": [
    {
     "name": "stdout",
     "output_type": "stream",
     "text": [
      "합계 :  17\n"
     ]
    }
   ],
   "source": [
    "total = 0\n",
    "for room in rooms:\n",
    "    total = total + sum(room)\n",
    "\n",
    "print('합계 : ', total)"
   ]
  },
  {
   "cell_type": "code",
   "execution_count": null,
   "id": "180bf82d-d53d-45ef-b5a3-5e284008f597",
   "metadata": {},
   "outputs": [],
   "source": []
  }
 ],
 "metadata": {
  "kernelspec": {
   "display_name": "Python 3 (ipykernel)",
   "language": "python",
   "name": "python3"
  },
  "language_info": {
   "codemirror_mode": {
    "name": "ipython",
    "version": 3
   },
   "file_extension": ".py",
   "mimetype": "text/x-python",
   "name": "python",
   "nbconvert_exporter": "python",
   "pygments_lexer": "ipython3",
   "version": "3.12.8"
  }
 },
 "nbformat": 4,
 "nbformat_minor": 5
}
