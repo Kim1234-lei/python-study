{
 "cells": [
  {
   "cell_type": "markdown",
   "id": "272b6c27-3c09-47ae-a56b-560c5741cc58",
   "metadata": {},
   "source": [
    "# 클래스는 1개 이상 함수, 변수로 정의됨, 상속 가능"
   ]
  },
  {
   "cell_type": "code",
   "execution_count": 1,
   "id": "60cf4c42-2dae-4146-916d-db1f1ea8efac",
   "metadata": {},
   "outputs": [],
   "source": [
    "class cexam:\n",
    "    def fsam(self): # self는 객체를 가리킨다.\n",
    "        self.text = '멤버 함수(메소드)'\n",
    "        print(self.text)"
   ]
  },
  {
   "cell_type": "code",
   "execution_count": 11,
   "id": "daf3c773-4254-4d27-a7ad-e71c5a7b4c2e",
   "metadata": {},
   "outputs": [],
   "source": [
    "ca = cexam() # 객체 생성"
   ]
  },
  {
   "cell_type": "code",
   "execution_count": 12,
   "id": "3e3e14e1-4369-43ce-92b6-5a6e5006033f",
   "metadata": {},
   "outputs": [
    {
     "name": "stdout",
     "output_type": "stream",
     "text": [
      "<__main__.cexam object at 0x000002C57B83B560>\n"
     ]
    }
   ],
   "source": [
    "print(ca)"
   ]
  },
  {
   "cell_type": "code",
   "execution_count": 4,
   "id": "e98b14d1-4b69-4db6-9ef1-5e05e80d7824",
   "metadata": {},
   "outputs": [
    {
     "name": "stdout",
     "output_type": "stream",
     "text": [
      "멤버 함수(메소드)\n"
     ]
    }
   ],
   "source": [
    "ca.fsam() # 생성된 객체.멤버함수명 - 함수를 실행"
   ]
  },
  {
   "cell_type": "code",
   "execution_count": 6,
   "id": "358b9084-9813-4745-bed8-36c1be7dc146",
   "metadata": {},
   "outputs": [],
   "source": [
    "class cexam():\n",
    "    def fsama(self):\n",
    "        self.text = '멤버 함수(메소드)'\n",
    "        print(self.text)\n",
    "    \n",
    "    def fsamb(self, pa):\n",
    "        self.x = pa\n",
    "        print('멤버 변수 X는 ', self.x)"
   ]
  },
  {
   "cell_type": "code",
   "execution_count": 7,
   "id": "2d491958-605f-4367-89d7-c94ada4ad80d",
   "metadata": {},
   "outputs": [],
   "source": [
    "ca = cexam() # 객체 생성"
   ]
  },
  {
   "cell_type": "code",
   "execution_count": 8,
   "id": "ceb14fb7-c33f-4ad6-a9a8-9a511bc3eb70",
   "metadata": {},
   "outputs": [
    {
     "name": "stdout",
     "output_type": "stream",
     "text": [
      "멤버 함수(메소드)\n"
     ]
    }
   ],
   "source": [
    "ca.fsama()"
   ]
  },
  {
   "cell_type": "code",
   "execution_count": 10,
   "id": "2028be9c-c57b-4ca8-8f4e-a1883eaa1eae",
   "metadata": {},
   "outputs": [
    {
     "name": "stdout",
     "output_type": "stream",
     "text": [
      "멤버 변수 X는  10\n"
     ]
    }
   ],
   "source": [
    "ca.fsamb(10)"
   ]
  },
  {
   "cell_type": "markdown",
   "id": "2ae9eb4e-17ed-4250-b9c3-c31bb237dd89",
   "metadata": {},
   "source": [
    "# 초기 메소드 \"__init__\""
   ]
  },
  {
   "cell_type": "code",
   "execution_count": 2,
   "id": "e9fd02d6-a634-498b-8880-501c3c048b8b",
   "metadata": {},
   "outputs": [],
   "source": [
    "class cexam():\n",
    "    def __init__(self, pa):\n",
    "        self.x = pa\n",
    "        print('멤버 변수 X는 ', self.x)\n",
    "    def fsam(self):\n",
    "        self.text = '멤버 함수(메소드)'\n",
    "        print(self.text)"
   ]
  },
  {
   "cell_type": "code",
   "execution_count": 3,
   "id": "2ea9ed07-8bc2-4642-a994-35695e1b098e",
   "metadata": {},
   "outputs": [
    {
     "name": "stdout",
     "output_type": "stream",
     "text": [
      "멤버 변수 X는  10\n"
     ]
    }
   ],
   "source": [
    "ca = cexam(10) # 객체 생성과 동시에 10 값을 __init__(pa) 에 전달"
   ]
  },
  {
   "cell_type": "code",
   "execution_count": 4,
   "id": "c8a7adb1-380f-46ed-9667-b78656413765",
   "metadata": {},
   "outputs": [
    {
     "name": "stdout",
     "output_type": "stream",
     "text": [
      "멤버 함수(메소드)\n"
     ]
    }
   ],
   "source": [
    "ca.fsam()"
   ]
  },
  {
   "cell_type": "code",
   "execution_count": 5,
   "id": "1ff61cff-72c5-4a53-a97e-ac3a6779be99",
   "metadata": {},
   "outputs": [
    {
     "data": {
      "text/plain": [
       "10"
      ]
     },
     "execution_count": 5,
     "metadata": {},
     "output_type": "execute_result"
    }
   ],
   "source": [
    "ca.x"
   ]
  },
  {
   "cell_type": "code",
   "execution_count": 6,
   "id": "b2378d62-3c04-4e62-bd36-920e11ac050b",
   "metadata": {},
   "outputs": [
    {
     "name": "stdout",
     "output_type": "stream",
     "text": [
      "멤버 변수 X는  30\n"
     ]
    }
   ],
   "source": [
    "cb = cexam(30)"
   ]
  },
  {
   "cell_type": "code",
   "execution_count": 8,
   "id": "ea7b7ba1-74f8-4493-b157-e6d968ecce2b",
   "metadata": {},
   "outputs": [
    {
     "data": {
      "text/plain": [
       "30"
      ]
     },
     "execution_count": 8,
     "metadata": {},
     "output_type": "execute_result"
    }
   ],
   "source": [
    "cb.x # ca.x 하고는 다른 변수"
   ]
  },
  {
   "cell_type": "markdown",
   "id": "8522a8a6-a3cc-4169-a6c5-05d2cf0976da",
   "metadata": {},
   "source": [
    "## self의 의미"
   ]
  },
  {
   "cell_type": "code",
   "execution_count": 18,
   "id": "d56412cb-5a7f-4f8d-ad78-ed7eed2ec5b4",
   "metadata": {},
   "outputs": [],
   "source": [
    "class cexam():\n",
    "    def __init__(self, pa, pb):\n",
    "        self.x = pa\n",
    "        y = pb\n",
    "        print('멤버 변수 X는 ', self.x)\n",
    "        print('변수 Y는 ', y)\n",
    "    \n",
    "    def fsam(self):\n",
    "        self.text = '멤버 함수(메소드)'\n",
    "        print(self.text)\n",
    "    \n",
    "    def fsamb(): # self라는 멤버 변수가 없는 것\n",
    "        print('멤버 함수가 아니다.')"
   ]
  },
  {
   "cell_type": "code",
   "execution_count": 19,
   "id": "1ef61c53-0a01-4b4d-8c4f-ff62019a9b4b",
   "metadata": {},
   "outputs": [
    {
     "name": "stdout",
     "output_type": "stream",
     "text": [
      "멤버 변수 X는  10\n",
      "변수 Y는  20\n"
     ]
    }
   ],
   "source": [
    "ca = cexam(10, 20)"
   ]
  },
  {
   "cell_type": "code",
   "execution_count": 20,
   "id": "7ae96ecf-d334-4cc3-872f-34e51cb7887e",
   "metadata": {},
   "outputs": [
    {
     "name": "stdout",
     "output_type": "stream",
     "text": [
      "멤버 함수(메소드)\n"
     ]
    }
   ],
   "source": [
    "ca.fsam()"
   ]
  },
  {
   "cell_type": "code",
   "execution_count": 21,
   "id": "64ae111d-2f95-4ec6-8623-aa626567c708",
   "metadata": {},
   "outputs": [
    {
     "ename": "TypeError",
     "evalue": "cexam.fsamb() takes 0 positional arguments but 1 was given",
     "output_type": "error",
     "traceback": [
      "\u001b[1;31m---------------------------------------------------------------------------\u001b[0m",
      "\u001b[1;31mTypeError\u001b[0m                                 Traceback (most recent call last)",
      "Cell \u001b[1;32mIn[21], line 1\u001b[0m\n\u001b[1;32m----> 1\u001b[0m ca\u001b[38;5;241m.\u001b[39mfsamb()\n",
      "\u001b[1;31mTypeError\u001b[0m: cexam.fsamb() takes 0 positional arguments but 1 was given"
     ]
    }
   ],
   "source": [
    "ca.fsamb() # error : self가 없기 때문에, 내부에서 실행을 하지 못한다."
   ]
  },
  {
   "cell_type": "markdown",
   "id": "b761bf3d-fdcd-4076-9cbf-73437844f235",
   "metadata": {},
   "source": [
    "## 파이썬에서 변수와 기억장소(메모리) 할당"
   ]
  },
  {
   "cell_type": "code",
   "execution_count": 1,
   "id": "2efe82e1-8137-48cc-99b6-701f5cb42907",
   "metadata": {},
   "outputs": [],
   "source": [
    "class Calcurator: # 클래스는 단어의 첫 글자를 대문자로 쓴다.\n",
    "    def setinit(self):\n",
    "        self.result = 0\n",
    "    def adder(self, num):\n",
    "        self.result = self.result + num\n",
    "        return self.result"
   ]
  },
  {
   "cell_type": "code",
   "execution_count": 2,
   "id": "7dd9bdba-f621-460c-b6a3-0a08e5d8f4db",
   "metadata": {},
   "outputs": [],
   "source": [
    "cal1 = Calcurator()"
   ]
  },
  {
   "cell_type": "code",
   "execution_count": 3,
   "id": "25737cf8-5398-4be4-9888-46af7afbe4be",
   "metadata": {},
   "outputs": [],
   "source": [
    "cal1.setinit()"
   ]
  },
  {
   "cell_type": "code",
   "execution_count": 4,
   "id": "ddc7f852-fe9b-4601-9394-eb77cbe7098d",
   "metadata": {},
   "outputs": [
    {
     "name": "stdout",
     "output_type": "stream",
     "text": [
      "0\n"
     ]
    }
   ],
   "source": [
    "print(cal1.result)"
   ]
  },
  {
   "cell_type": "code",
   "execution_count": 5,
   "id": "2c61cf0c-0aa2-4421-8330-10de0a02b077",
   "metadata": {},
   "outputs": [],
   "source": [
    "cal2 = Calcurator()\n",
    "cal2.setinit()"
   ]
  },
  {
   "cell_type": "code",
   "execution_count": 7,
   "id": "b3bc9c01-ff5e-4b6d-9d01-c97039645e6e",
   "metadata": {},
   "outputs": [
    {
     "name": "stdout",
     "output_type": "stream",
     "text": [
      "0\n",
      "0\n"
     ]
    }
   ],
   "source": [
    "print(cal1.result)\n",
    "print(cal2.result)"
   ]
  },
  {
   "cell_type": "code",
   "execution_count": 10,
   "id": "842e64a6-8701-44a6-a821-ed46f5d27c62",
   "metadata": {},
   "outputs": [
    {
     "name": "stdout",
     "output_type": "stream",
     "text": [
      "3\n",
      "4\n"
     ]
    }
   ],
   "source": [
    "print(cal1.adder(3))\n",
    "print(cal2.adder(4))"
   ]
  },
  {
   "cell_type": "code",
   "execution_count": 11,
   "id": "6f664f08-083a-400f-90bd-0117fc3910a8",
   "metadata": {},
   "outputs": [
    {
     "name": "stdout",
     "output_type": "stream",
     "text": [
      "3\n",
      "4\n"
     ]
    }
   ],
   "source": [
    "print(cal1.result)\n",
    "print(cal2.result)"
   ]
  },
  {
   "cell_type": "code",
   "execution_count": 13,
   "id": "077899bd-e247-49f2-852d-a8e478554481",
   "metadata": {},
   "outputs": [
    {
     "name": "stdout",
     "output_type": "stream",
     "text": [
      "9\n",
      "15\n"
     ]
    }
   ],
   "source": [
    "print(cal1.adder(3))\n",
    "print(cal2.adder(7))"
   ]
  },
  {
   "cell_type": "code",
   "execution_count": 14,
   "id": "bc5f7bc5-cf21-4f3e-a1b1-9e621f0c101e",
   "metadata": {},
   "outputs": [
    {
     "name": "stdout",
     "output_type": "stream",
     "text": [
      "10\n",
      "20\n"
     ]
    }
   ],
   "source": [
    "cal3 = Calcurator()\n",
    "cal3.setinit()\n",
    "print(cal3.adder(10))\n",
    "print(cal3.adder(10))"
   ]
  },
  {
   "cell_type": "code",
   "execution_count": 15,
   "id": "7a02de6f-2acc-4e03-94ce-c34610646784",
   "metadata": {},
   "outputs": [
    {
     "name": "stdout",
     "output_type": "stream",
     "text": [
      "9\n",
      "15\n"
     ]
    }
   ],
   "source": [
    "print(cal1.result)\n",
    "print(cal2.result)"
   ]
  },
  {
   "cell_type": "code",
   "execution_count": 18,
   "id": "f31cbff7-a52c-458b-8563-393f9f228969",
   "metadata": {},
   "outputs": [
    {
     "data": {
      "text/plain": [
       "10"
      ]
     },
     "execution_count": 18,
     "metadata": {},
     "output_type": "execute_result"
    }
   ],
   "source": [
    "cal4 = Calcurator()\n",
    "cal4.setinit()\n",
    "cal4.adder(10)"
   ]
  },
  {
   "cell_type": "markdown",
   "id": "f293dcda-9d5a-46d4-ad09-12866ce4a18c",
   "metadata": {},
   "source": [
    "## __init__ 메소드는 객체의 변수 값을 초기화"
   ]
  },
  {
   "cell_type": "code",
   "execution_count": 19,
   "id": "2b3a5dad-b8ee-41ff-9b62-ba460a5190ad",
   "metadata": {},
   "outputs": [],
   "source": [
    "class Calcurator: # 클래스는 단어의 첫 글자를 대문자로 쓴다.\n",
    "    def __init__(self):\n",
    "        self.result = 0\n",
    "    def adder(self, num):\n",
    "        self.result = self.result + num\n",
    "        return self.result"
   ]
  },
  {
   "cell_type": "code",
   "execution_count": 20,
   "id": "28031217-e4af-4d86-b571-7ec73dc30027",
   "metadata": {},
   "outputs": [
    {
     "data": {
      "text/plain": [
       "10"
      ]
     },
     "execution_count": 20,
     "metadata": {},
     "output_type": "execute_result"
    }
   ],
   "source": [
    "cal5 = Calcurator()\n",
    "cal5.adder(10)"
   ]
  },
  {
   "cell_type": "code",
   "execution_count": 23,
   "id": "1f42eb94-f346-4b79-b89d-d6d1fb91401c",
   "metadata": {},
   "outputs": [],
   "source": [
    "## 멤버 파라미터 값으로 변수 초기화\n",
    "\n",
    "class Car:\n",
    "    def __init__(self, pnum, pspeed):\n",
    "        self.num = pnum\n",
    "        self.speed = pspeed"
   ]
  },
  {
   "cell_type": "code",
   "execution_count": 25,
   "id": "b190007a-eec1-467b-b927-b9518699cf42",
   "metadata": {},
   "outputs": [],
   "source": [
    "new_car = Car(2025, 90)"
   ]
  },
  {
   "cell_type": "code",
   "execution_count": 27,
   "id": "71e7043d-c390-454b-a833-a968822d925d",
   "metadata": {},
   "outputs": [
    {
     "name": "stdout",
     "output_type": "stream",
     "text": [
      "차량 번호  2025\n",
      " 속도는 :  90\n"
     ]
    }
   ],
   "source": [
    "print('차량 번호 ', new_car.num)\n",
    "print(' 속 도 는 : ', new_car.speed)"
   ]
  },
  {
   "cell_type": "code",
   "execution_count": 29,
   "id": "026f6653-9356-4f2e-a68a-7234d8e8c878",
   "metadata": {},
   "outputs": [],
   "source": [
    "class Car:\n",
    "    def __init__(self, pnum, pspeed):\n",
    "        self.num = pnum\n",
    "        self.speed = pspeed\n",
    "    def fprint(self):\n",
    "        print('차량 번호 ', self.num)\n",
    "        print(' 속 도 는 : ', self.speed)"
   ]
  },
  {
   "cell_type": "code",
   "execution_count": 31,
   "id": "652b5737-ab11-4413-b1ff-c3e899873223",
   "metadata": {},
   "outputs": [
    {
     "name": "stdout",
     "output_type": "stream",
     "text": [
      "차량 번호  2025\n",
      " 속 도 는 :  90\n"
     ]
    }
   ],
   "source": [
    "new_car = Car(2025, 90)\n",
    "new_car.fprint()"
   ]
  },
  {
   "cell_type": "code",
   "execution_count": 32,
   "id": "3d99035a-39db-4a56-af4b-6d9e22373aa8",
   "metadata": {},
   "outputs": [
    {
     "name": "stdout",
     "output_type": "stream",
     "text": [
      "객체 obj 내의 인스턴스 변수 x의 값은  10\n",
      "객체 obj 내의 인스턴스 변수 y의 값은  20\n",
      "객체 obj 내의 인스턴스 변수 hap의 값은  30\n"
     ]
    }
   ],
   "source": [
    "class Cadd:\n",
    "    def fadd(self, a, b):\n",
    "        self.x = a\n",
    "        self.y = b\n",
    "        self.hap = self.x + self.y\n",
    "\n",
    "obj = Cadd()\n",
    "obj.fadd(10, 20)\n",
    "\n",
    "print('객체 obj 내의 인스턴스 변수 x의 값은 ', obj.x)\n",
    "print('객체 obj 내의 인스턴스 변수 y의 값은 ', obj.y)\n",
    "print('객체 obj 내의 인스턴스 변수 hap의 값은 ', obj.hap)"
   ]
  },
  {
   "cell_type": "code",
   "execution_count": 33,
   "id": "5624790d-2246-429c-ad4d-dbcce4415777",
   "metadata": {},
   "outputs": [
    {
     "name": "stdout",
     "output_type": "stream",
     "text": [
      "ohap의 값은 ? 30\n"
     ]
    }
   ],
   "source": [
    "class Cadd:\n",
    "    def fadd(self, a, b):\n",
    "        x = a\n",
    "        y = b\n",
    "        hap = x + y\n",
    "        return hap\n",
    "\n",
    "obj = Cadd()\n",
    "ohap = obj.fadd(10, 20)\n",
    "\n",
    "print('ohap의 값은 ?', ohap)"
   ]
  },
  {
   "cell_type": "code",
   "execution_count": 34,
   "id": "dbd5a105-ce6b-4fcf-9e57-0b53e7cc11b6",
   "metadata": {},
   "outputs": [
    {
     "name": "stdout",
     "output_type": "stream",
     "text": [
      "ohap의 값은 ? 30\n"
     ]
    }
   ],
   "source": [
    "class Cadd:\n",
    "    def fadd(self, a, b):\n",
    "        self.x = a\n",
    "        self.y = b\n",
    "        self.hap = self.x + self.y\n",
    "        return self.hap\n",
    "\n",
    "obj = Cadd()\n",
    "ohap = obj.fadd(10, 20)\n",
    "\n",
    "print('ohap의 값은 ?', ohap)"
   ]
  },
  {
   "cell_type": "code",
   "execution_count": null,
   "id": "8a77085e-753d-4441-b31a-1d96f0da163a",
   "metadata": {},
   "outputs": [],
   "source": [
    "# 객체의 멤버함수의 파라미터에 초기값 설정"
   ]
  },
  {
   "cell_type": "code",
   "execution_count": 35,
   "id": "3a671b6b-9d29-4a94-9c0f-11fea474c9d7",
   "metadata": {},
   "outputs": [
    {
     "name": "stdout",
     "output_type": "stream",
     "text": [
      "ohap의 값은 ? 3\n"
     ]
    }
   ],
   "source": [
    "class Cadd:\n",
    "    def fadd(self, a=1, b=2):\n",
    "        self.x = a\n",
    "        self.y = b\n",
    "        self.hap = self.x + self.y\n",
    "        return self.hap\n",
    "\n",
    "obj = Cadd()\n",
    "ohap = obj.fadd()\n",
    "\n",
    "print('ohap의 값은 ?', ohap)"
   ]
  },
  {
   "cell_type": "code",
   "execution_count": 36,
   "id": "ca60662f-9899-4afa-beae-4991bc16bf63",
   "metadata": {},
   "outputs": [
    {
     "name": "stdout",
     "output_type": "stream",
     "text": [
      "ohap의 값은 ? 30\n"
     ]
    }
   ],
   "source": [
    "ohap = obj.fadd(10, 20)\n",
    "print('ohap의 값은 ?', ohap)"
   ]
  },
  {
   "cell_type": "code",
   "execution_count": 37,
   "id": "4729d376-053d-4ffa-8dfe-44bc411fad75",
   "metadata": {},
   "outputs": [
    {
     "name": "stdout",
     "output_type": "stream",
     "text": [
      "ohap의 값은 ? 12\n"
     ]
    }
   ],
   "source": [
    "ohap = obj.fadd(10)\n",
    "print('ohap의 값은 ?', ohap)"
   ]
  },
  {
   "cell_type": "code",
   "execution_count": 38,
   "id": "20d6ed89-7562-4e42-90e7-7dbd5cc6f092",
   "metadata": {},
   "outputs": [
    {
     "ename": "SyntaxError",
     "evalue": "invalid syntax (2916614980.py, line 1)",
     "output_type": "error",
     "traceback": [
      "\u001b[1;36m  Cell \u001b[1;32mIn[38], line 1\u001b[1;36m\u001b[0m\n\u001b[1;33m    ohap = obj.fadd( , 20)\u001b[0m\n\u001b[1;37m                     ^\u001b[0m\n\u001b[1;31mSyntaxError\u001b[0m\u001b[1;31m:\u001b[0m invalid syntax\n"
     ]
    }
   ],
   "source": [
    "ohap = obj.fadd( , 20)\n",
    "print('ohap의 값은 ?', ohap)"
   ]
  },
  {
   "cell_type": "code",
   "execution_count": 39,
   "id": "fb002ed1-3eb4-46c6-afc5-40ceb7cccc3b",
   "metadata": {},
   "outputs": [
    {
     "ename": "TypeError",
     "evalue": "__init__() should return None, not 'int'",
     "output_type": "error",
     "traceback": [
      "\u001b[1;31m---------------------------------------------------------------------------\u001b[0m",
      "\u001b[1;31mTypeError\u001b[0m                                 Traceback (most recent call last)",
      "Cell \u001b[1;32mIn[39], line 8\u001b[0m\n\u001b[0;32m      5\u001b[0m         \u001b[38;5;28mself\u001b[39m\u001b[38;5;241m.\u001b[39mhap \u001b[38;5;241m=\u001b[39m \u001b[38;5;28mself\u001b[39m\u001b[38;5;241m.\u001b[39mx \u001b[38;5;241m+\u001b[39m \u001b[38;5;28mself\u001b[39m\u001b[38;5;241m.\u001b[39my\n\u001b[0;32m      6\u001b[0m         \u001b[38;5;28;01mreturn\u001b[39;00m \u001b[38;5;28mself\u001b[39m\u001b[38;5;241m.\u001b[39mhap\n\u001b[1;32m----> 8\u001b[0m ohap \u001b[38;5;241m=\u001b[39m Cadd(\u001b[38;5;241m10\u001b[39m, \u001b[38;5;241m20\u001b[39m)\n\u001b[0;32m     10\u001b[0m \u001b[38;5;28mprint\u001b[39m(\u001b[38;5;124m'\u001b[39m\u001b[38;5;124mohap의 값은 ?\u001b[39m\u001b[38;5;124m'\u001b[39m, ohap)\n",
      "\u001b[1;31mTypeError\u001b[0m: __init__() should return None, not 'int'"
     ]
    }
   ],
   "source": [
    "class Cadd:\n",
    "    def __init__(self, a=1, b=2):\n",
    "        self.x = a\n",
    "        self.y = b\n",
    "        self.hap = self.x + self.y\n",
    "        return self.hap # __init__ Return 을 사용 할 수 없다.\n",
    "        \n",
    "ohap = Cadd(10, 20)\n",
    "\n",
    "print('ohap의 값은 ?', ohap)"
   ]
  },
  {
   "cell_type": "code",
   "execution_count": 51,
   "id": "d99461a5-ad02-4f25-922c-c142c784cba2",
   "metadata": {},
   "outputs": [],
   "source": [
    "class Ccalc:\n",
    "    def fadd(self, a, b):\n",
    "        self.x = a\n",
    "        self.y = b\n",
    "        self.res1 = self.x + self.y\n",
    "        return self.res1\n",
    "\n",
    "    def fsub(self, a, b):\n",
    "        self.j = a\n",
    "        self.k = b\n",
    "        self.res2 = self.j - self.k\n",
    "        return self.res2\n",
    "\n",
    "    def fmul(self, a, b):\n",
    "        self.l = a\n",
    "        self.r = b\n",
    "        self.res3 = self.l * self.r\n",
    "        return self.res3\n",
    "    \n",
    "    def fdiv(self, a, b):\n",
    "        self.m = a\n",
    "        self.n = b\n",
    "        self.res4 = self.m / self.n\n",
    "        return self.res4"
   ]
  },
  {
   "cell_type": "code",
   "execution_count": 52,
   "id": "1a481195-3088-4593-bd35-5716795fd2c1",
   "metadata": {},
   "outputs": [
    {
     "name": "stdout",
     "output_type": "stream",
     "text": [
      "30\n",
      "-10\n",
      "200\n",
      "0.5\n"
     ]
    }
   ],
   "source": [
    "cal1 = Ccalc()\n",
    "print(cal1.fadd(10,20))\n",
    "print(cal1.fsub(10,20))\n",
    "print(cal1.fmul(10,20))\n",
    "print(cal1.fdiv(10,20))"
   ]
  },
  {
   "cell_type": "code",
   "execution_count": 55,
   "id": "7c101a11-67cb-405b-ab86-91b58dc5bca1",
   "metadata": {},
   "outputs": [
    {
     "name": "stdout",
     "output_type": "stream",
     "text": [
      " C 드라이브의 볼륨: Windows \n",
      " 볼륨 일련 번호: 70E4-779B\n",
      "\n",
      " C:\\Users\\305 디렉터리\n",
      "\n",
      "2025-02-04  오후 01:28    <DIR>          .\n",
      "2025-01-23  오후 06:05    <DIR>          ..\n",
      "2025-01-23  오후 03:17    <DIR>          .anaconda\n",
      "2025-02-04  오후 01:28    <DIR>          .conda\n",
      "2025-01-23  오후 03:17               146 .condarc\n",
      "2025-01-23  오후 03:17    <DIR>          .continuum\n",
      "2024-12-21  오후 03:08    <DIR>          .dotnet\n",
      "2025-02-04  오전 10:47    <DIR>          .idlerc\n",
      "2025-02-04  오후 01:26    <DIR>          .ipynb_checkpoints\n",
      "2025-01-23  오후 03:28    <DIR>          .ipython\n",
      "2025-01-23  오후 03:34    <DIR>          .jupyter\n",
      "2024-11-01  오후 05:21    <DIR>          .local\n",
      "2024-05-14  오후 02:45    <DIR>          .ms-ad\n",
      "2024-12-21  오후 03:13    <DIR>          .templateengine\n",
      "2025-01-24  오후 05:45    <DIR>          .VirtualBox\n",
      "2025-02-03  오후 04:44    <DIR>          .vscode\n",
      "2025-01-24  오후 01:18             4,287 1. 변수와 데이터 타입 기초(강사님꺼)1.ipynb\n",
      "2025-01-24  오후 01:56             9,464 1. 변수와 데이터 타입 기초(강사님꺼)2.ipynb\n",
      "2025-01-24  오후 02:56            12,579 1. 변수와 데이터 타입 기초(강사님꺼)3.ipynb\n",
      "2025-01-24  오후 02:44            11,816 1.변수와 데이터 타입 기초(내가 작성한 것).ipynb\n",
      "2025-01-24  오후 02:57             2,530 2. 제어문과 반목문(강사님꺼)1.ipynb\n",
      "2025-01-24  오후 02:57             2,530 2. 제어문과 반복문(강사님꺼)2.ipynb\n",
      "2025-01-24  오후 05:19            15,190 2. 제어문과 반복문(강사님꺼)3.ipynb\n",
      "2025-02-03  오후 01:36            18,846 2.제어문과 반복문(내가 작성한거).ipynb\n",
      "2025-02-03  오후 02:29            13,324 3. 리스트(강사님꺼).ipynb\n",
      "2025-02-03  오전 11:06            13,153 3.리스트.ipynb\n",
      "2025-02-03  오후 02:30             9,637 4. 튜플과 딕셔너리(강사님꺼).ipynb\n",
      "2025-02-03  오전 11:52             9,988 4.튜플과 딕셔너리.ipynb\n",
      "2025-02-04  오전 08:57            12,922 5. 함수(강사님꺼).ipynb\n",
      "2025-02-03  오후 02:25            11,615 5.함수.ipynb\n",
      "2025-02-03  오후 04:19            15,999 6. 자료 구조와 알고리리즘(강사님꺼).ipynb\n",
      "2025-02-03  오후 04:29            15,389 6.자료구조와 알고리즘.ipynb\n",
      "2025-02-04  오후 01:28            26,554 7.클래스.ipynb\n",
      "2025-01-24  오전 08:29    <DIR>          Contacts\n",
      "2025-02-03  오후 04:43    <DIR>          Desktop\n",
      "2025-02-04  오전 10:28    <DIR>          Documents\n",
      "2025-02-04  오후 01:25    <DIR>          Downloads\n",
      "2025-01-23  오후 03:38               914 example.ipynb\n",
      "2025-01-24  오전 08:29    <DIR>          Favorites\n",
      "2025-02-04  오후 01:25               710 fcal.py\n",
      "2025-01-23  오후 03:33             2,329 hello.ipynb\n",
      "2025-01-24  오전 08:29    <DIR>          Links\n",
      "2025-01-24  오전 08:29    <DIR>          Music\n",
      "2024-01-26  오후 03:45    <DIR>          OneDrive\n",
      "2025-01-24  오전 08:29    <DIR>          Pictures\n",
      "2025-02-03  오후 04:50    <DIR>          pygame\n",
      "2025-01-24  오전 08:29    <DIR>          Saved Games\n",
      "2025-01-24  오전 08:29    <DIR>          Searches\n",
      "2024-12-21  오후 03:25    <DIR>          source\n",
      "2025-01-24  오전 08:29    <DIR>          Videos\n",
      "2025-01-24  오전 09:38    <DIR>          VirtualBox VMs\n",
      "2025-02-04  오후 01:28    <DIR>          __pycache__\n",
      "              21개 파일             209,922 바이트\n",
      "              31개 디렉터리  126,355,521,536 바이트 남음\n"
     ]
    }
   ],
   "source": [
    "!dir"
   ]
  },
  {
   "cell_type": "code",
   "execution_count": 54,
   "id": "5ee91ab8-5e20-412e-b5b6-ad77c2903075",
   "metadata": {},
   "outputs": [],
   "source": [
    "from fcal import Fcalc, Fcala # fcal.py에 존재하는 클래스 Fcalc, Fcala 를 불러온다."
   ]
  },
  {
   "cell_type": "code",
   "execution_count": 56,
   "id": "52c9d158-144a-4b28-aa44-eab17b713d84",
   "metadata": {},
   "outputs": [],
   "source": [
    "cal1 = Fcalc()"
   ]
  },
  {
   "cell_type": "code",
   "execution_count": 57,
   "id": "483998ea-29ae-4973-b64b-f431b4ea7613",
   "metadata": {},
   "outputs": [
    {
     "name": "stdout",
     "output_type": "stream",
     "text": [
      "30\n",
      "-10\n",
      "200\n",
      "0.5\n"
     ]
    }
   ],
   "source": [
    "print(cal1.fadd(10,20))\n",
    "print(cal1.fsub(10,20))\n",
    "print(cal1.fmul(10,20))\n",
    "print(cal1.fdiv(10,20))"
   ]
  },
  {
   "cell_type": "code",
   "execution_count": 58,
   "id": "fc406aa0-dc9b-45d4-ba3e-87cf563352a7",
   "metadata": {},
   "outputs": [],
   "source": [
    "cal2 = Fcala()"
   ]
  },
  {
   "cell_type": "code",
   "execution_count": 60,
   "id": "42b26ee4-fd7a-4556-adfb-9f76edcb46fe",
   "metadata": {},
   "outputs": [
    {
     "data": {
      "text/plain": [
       "100"
      ]
     },
     "execution_count": 60,
     "metadata": {},
     "output_type": "execute_result"
    }
   ],
   "source": [
    "cal2.fsqrt(10, 2)"
   ]
  },
  {
   "cell_type": "code",
   "execution_count": null,
   "id": "2fc86642-1a1b-41aa-a1f2-d56d1ba41dee",
   "metadata": {},
   "outputs": [],
   "source": []
  }
 ],
 "metadata": {
  "kernelspec": {
   "display_name": "Python 3 (ipykernel)",
   "language": "python",
   "name": "python3"
  },
  "language_info": {
   "codemirror_mode": {
    "name": "ipython",
    "version": 3
   },
   "file_extension": ".py",
   "mimetype": "text/x-python",
   "name": "python",
   "nbconvert_exporter": "python",
   "pygments_lexer": "ipython3",
   "version": "3.12.8"
  }
 },
 "nbformat": 4,
 "nbformat_minor": 5
}
