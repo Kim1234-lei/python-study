{
 "cells": [
  {
   "cell_type": "markdown",
   "id": "4a513169-e8a0-4ef7-92b3-89153295debe",
   "metadata": {},
   "source": [
    "# 1. 변수와 데이터 타입 기초\n",
    "## 1.1 변수 선언과 값 할당\n",
    "변수는 데이터를 저장하는 공간을 나타냅니다. Python에서 변수는 특정 값에 이름을 붙여서 사용합니다."
   ]
  },
  {
   "cell_type": "code",
   "execution_count": 11,
   "id": "7aa4d44e-f7b3-4033-90ec-2d1a2517db3c",
   "metadata": {},
   "outputs": [],
   "source": [
    "# 변수 선언과 값 할당\n",
    "x = 10           # 정수형\n",
    "name = \"Alice\"    # 문자열\n",
    "height = 1.75     # 실수형\n",
    "is_student = True # 불리언"
   ]
  },
  {
   "cell_type": "markdown",
   "id": "6da14773-eb22-43f0-9bfe-adc1443e4777",
   "metadata": {},
   "source": [
    "## 1.2. 데이터 타입 확인하기\n",
    "Python에서는 type() 함수를 사용하여 변수의 데이터 타입을 확인할 수 있습니다."
   ]
  },
  {
   "cell_type": "code",
   "execution_count": 12,
   "id": "2b1d8393-603f-47ec-966d-591a6d201e34",
   "metadata": {},
   "outputs": [
    {
     "name": "stdout",
     "output_type": "stream",
     "text": [
      "<class 'int'>\n",
      "<class 'str'>\n",
      "<class 'float'>\n",
      "<class 'bool'>\n"
     ]
    }
   ],
   "source": [
    "print(type(x))        # <class 'int'>\n",
    "print(type(name))     # <class 'str'>\n",
    "print(type(height))   # <class 'float'>\n",
    "print(type(is_student)) # <class 'bool'>"
   ]
  },
  {
   "cell_type": "code",
   "execution_count": 13,
   "id": "debe8b7c-9d45-48f7-a80f-b91f55938efd",
   "metadata": {},
   "outputs": [
    {
     "name": "stdout",
     "output_type": "stream",
     "text": [
      "x =  10\n",
      "name =  Alice\n",
      "height =  1.75\n",
      "is_student =  True\n"
     ]
    }
   ],
   "source": [
    "print('x = ', x)      \n",
    "print('name = ', name)     \n",
    "print('height = ', height)   \n",
    "print('is_student = ', is_student)"
   ]
  },
  {
   "cell_type": "markdown",
   "id": "2e02bd01-d9db-40f5-ab6d-cb24619bdc4b",
   "metadata": {},
   "source": [
    "## 1.3 데이터 타입 변환하기\n",
    "Python에서는 데이터를 다른 타입으로 변환 할 수 있습니다. 예를 들어, 정수를 실수로 변환하거나 문자열을 숫자로 변환할 수 있습니다."
   ]
  },
  {
   "cell_type": "code",
   "execution_count": 14,
   "id": "4ae9fcd4-a9e9-4840-af20-7ce03908728c",
   "metadata": {},
   "outputs": [
    {
     "name": "stdout",
     "output_type": "stream",
     "text": [
      "101\n",
      "1.75\n"
     ]
    }
   ],
   "source": [
    "# 데이터 타입 변환 예제\n",
    "num_str = \"100\"     # 문자열\n",
    "num_int = int(num_str)  # 문자열을 정수로 변환\n",
    "print(num_int + 1)       # 100\n",
    "\n",
    "height_str = str(height)  # 실수를 문자열로 변환\n",
    "print(height_str)   # '1.75'"
   ]
  },
  {
   "cell_type": "markdown",
   "id": "21c73b20-906b-4a8b-a669-812418c48dd7",
   "metadata": {},
   "source": [
    "# 2. 다양한 데이터 실습\n",
    "## 2.1 정수 (int)\n",
    "정수는 소수점이 없는 숫자를 나타냅니다."
   ]
  },
  {
   "cell_type": "code",
   "execution_count": 15,
   "id": "a395add7-db79-438a-9a30-a9ddf7b195fd",
   "metadata": {},
   "outputs": [
    {
     "name": "stdout",
     "output_type": "stream",
     "text": [
      "합 :  43\n"
     ]
    }
   ],
   "source": [
    "# 정수 예제\n",
    "num1 = 50\n",
    "num2 = -7\n",
    "sum_result = num1 + num2\n",
    "print(\"합 : \", sum_result) # 43"
   ]
  },
  {
   "cell_type": "markdown",
   "id": "5e009775-1158-459e-ac5d-9f82d97dfd85",
   "metadata": {},
   "source": [
    "## 2.2 실수(float)\n",
    "실수는 소수점이 있는 숫자를 나타냅니다."
   ]
  },
  {
   "cell_type": "code",
   "execution_count": 17,
   "id": "0587778d-47fd-4486-afe9-07299278f399",
   "metadata": {},
   "outputs": [
    {
     "name": "stdout",
     "output_type": "stream",
     "text": [
      "BMI :  23.020408163265305\n"
     ]
    }
   ],
   "source": [
    "# 실수 예제\n",
    "height = 1.75\n",
    "weight = 70.5\n",
    "bmi = weight / (height ** 2) # BMI 계산\n",
    "print(\"BMI : \", bmi) # 22.98 (대략적인 결과)"
   ]
  },
  {
   "cell_type": "markdown",
   "id": "ca718c6c-51bc-499c-8d09-2b3c70b5f80e",
   "metadata": {},
   "source": [
    "## 2.3 문자열(str)\n",
    "문자열은 작은따옴표(') 또는 큰따옴표(\")로 감싸서 만들 수 있습니다."
   ]
  },
  {
   "cell_type": "code",
   "execution_count": 22,
   "id": "f02e8bea-fc95-46b3-916c-d508ca4805ef",
   "metadata": {},
   "outputs": [
    {
     "name": "stdout",
     "output_type": "stream",
     "text": [
      "Hello, World!\n",
      "Hello Alice\n"
     ]
    }
   ],
   "source": [
    "# 문자열 예제\n",
    "greeting = \"Hello, World!\"\n",
    "print(greeting) # Hello, World!\n",
    "\n",
    "# 문자열 연결 (concatenation)\n",
    "full_greeting = \"Hello\" + \" \" + \"Alice\"\n",
    "print(full_greeting) # Hello Alice!"
   ]
  },
  {
   "cell_type": "markdown",
   "id": "52aa427e-be26-41f9-8193-d090b4551eea",
   "metadata": {},
   "source": [
    "## 2.4 불리언 (bool)\n",
    "불리언은 True 또는 False 값만 가질 수 있는 데이터 타입입니다."
   ]
  },
  {
   "cell_type": "code",
   "execution_count": 25,
   "id": "d99142c6-eca2-467f-9e8b-e21724201877",
   "metadata": {},
   "outputs": [
    {
     "name": "stdout",
     "output_type": "stream",
     "text": [
      "False\n"
     ]
    }
   ],
   "source": [
    "b_txt = 'False'\n",
    "print(b_txt)"
   ]
  },
  {
   "cell_type": "code",
   "execution_count": 29,
   "id": "28ea183f-9c14-47aa-b234-7cc8cc23bcba",
   "metadata": {},
   "outputs": [
    {
     "name": "stdout",
     "output_type": "stream",
     "text": [
      "비가 오나요? True\n",
      "맑은 날인가요? False\n"
     ]
    }
   ],
   "source": [
    "# 불리언 예제\n",
    "is_raining = True\n",
    "is_sunny = False\n",
    "\n",
    "print(\"비가 오나요?\", is_raining) # True\n",
    "print(\"맑은 날인가요?\", is_sunny) # False"
   ]
  },
  {
   "cell_type": "code",
   "execution_count": 30,
   "id": "073cf3c9-4cfa-4436-a886-f3a45807c514",
   "metadata": {},
   "outputs": [
    {
     "name": "stdout",
     "output_type": "stream",
     "text": [
      "참\n"
     ]
    }
   ],
   "source": [
    "if 0 == False:\n",
    "    print(\"참\")\n",
    "else:\n",
    "    print(\"거짓\")"
   ]
  },
  {
   "cell_type": "markdown",
   "id": "df95858d-5d6d-4248-8f31-ecd6e4d86f53",
   "metadata": {},
   "source": [
    "# 3. 데이터 타입 연산\n",
    "## 3.1 정수와 실수 연산\n",
    "정수와 실수는 서로 연산이 가능하며, 실수 결과를 반환합니다."
   ]
  },
  {
   "cell_type": "code",
   "execution_count": 31,
   "id": "8bae7de8-3197-47be-88f8-18af053e431b",
   "metadata": {},
   "outputs": [],
   "source": [
    "# 정수와 실수 연산\n",
    "num1 = 10\n",
    "num2 = 3"
   ]
  },
  {
   "cell_type": "code",
   "execution_count": 32,
   "id": "00c61d4f-2e1c-4b96-bf3e-8c1d424d2f82",
   "metadata": {},
   "outputs": [
    {
     "name": "stdout",
     "output_type": "stream",
     "text": [
      "덧셈 결과: 13\n"
     ]
    }
   ],
   "source": [
    "# 덧셈\n",
    "sum_result = num1 + num2  # 10 + 3 = 13\n",
    "print(\"덧셈 결과:\", sum_result)"
   ]
  },
  {
   "cell_type": "code",
   "execution_count": 33,
   "id": "27bb7dd6-44c9-4273-84a5-8cb31b5b5e63",
   "metadata": {},
   "outputs": [
    {
     "name": "stdout",
     "output_type": "stream",
     "text": [
      "나눗셈 결과: 3.3333333333333335\n"
     ]
    }
   ],
   "source": [
    "# 나눗셈 (결과는 실수형)\n",
    "division_result = num1 / num2  # 10 / 3 = 3.333...\n",
    "print(\"나눗셈 결과:\", division_result)"
   ]
  },
  {
   "cell_type": "code",
   "execution_count": 34,
   "id": "2fc157d8-5488-44c0-b557-cc9a55b01821",
   "metadata": {},
   "outputs": [
    {
     "name": "stdout",
     "output_type": "stream",
     "text": [
      "나머지: 1\n"
     ]
    }
   ],
   "source": [
    "# 나머지 구하기 (정수형)\n",
    "mod_result = num1 % num2  # 10 % 3 = 1\n",
    "print(\"나머지:\", mod_result)"
   ]
  },
  {
   "cell_type": "markdown",
   "id": "d654bbbe-1291-4049-85de-67074391cfde",
   "metadata": {},
   "source": [
    "# 문제 1 : 변수 선성과 연산\n",
    "정수 변수 a = 15, b = 4를 선언하고, 두 변수의 합, 차, 곱, 나눗셈, 나머지 결과를 각각 출력하는 프로그램을 작성하세요."
   ]
  },
  {
   "cell_type": "code",
   "execution_count": 53,
   "id": "6c4fdfe8-473e-403e-8d37-8747f7b77aef",
   "metadata": {},
   "outputs": [
    {
     "name": "stdout",
     "output_type": "stream",
     "text": [
      "두 정수의 합 :  19\n",
      "두 정수의 차 :  11\n",
      "두 정수의 곱 :  60\n",
      "두 정수의 나누기 :  3.75\n",
      "두 정수의 나머지 :  3\n"
     ]
    }
   ],
   "source": [
    "a = 15\n",
    "b = 4\n",
    "\n",
    "# 덧셈 결과\n",
    "c = a + b\n",
    "print(\"두 정수의 합 : \", c)\n",
    "\n",
    "# 뺄셈 결과\n",
    "c = a - b\n",
    "print(\"두 정수의 차 : \", c)\n",
    "\n",
    "# 곱셈 결과\n",
    "c = a * b\n",
    "print(\"두 정수의 곱 : \", c)\n",
    "\n",
    "# 나누기 결과\n",
    "c = a / b\n",
    "print(\"두 정수의 나누기 : \", c)\n",
    "\n",
    "# 나머지 결과\n",
    "c = a % b\n",
    "print(\"두 정수의 나머지 : \", c)"
   ]
  },
  {
   "cell_type": "markdown",
   "id": "2bdfa087-8b4c-484c-8118-973d9026de21",
   "metadata": {},
   "source": [
    "# 문제 2 : 문자열 다루기\n",
    "사용자의 이름을 입력받고, 그 이름을 \"Hello, [이름]!\" 형식으로 출력하는 프로그램을 작성하세요."
   ]
  },
  {
   "cell_type": "code",
   "execution_count": 55,
   "id": "88d3c780-2a89-4313-9834-311a20a35b6e",
   "metadata": {},
   "outputs": [
    {
     "name": "stdout",
     "output_type": "stream",
     "text": [
      "Hello, [김민성]!\n"
     ]
    }
   ],
   "source": [
    "name = '김민성'\n",
    "\n",
    "print(f'Hello, [{name}]!')"
   ]
  },
  {
   "cell_type": "markdown",
   "id": "3debd561-7b31-4b2f-bde8-b16be4160eca",
   "metadata": {},
   "source": [
    "# 문제 3 : BMI 계산기\n",
    "키와 몸무게를 입력받아 BMI(체질량 지수)를 계산하는 프로그램을 작성하세요.\n",
    "BMI 계산 공식 : BMI = 체중(kg) / (신장(m) ** 2)"
   ]
  },
  {
   "cell_type": "code",
   "execution_count": 52,
   "id": "bd347092-0570-4892-b23d-737fe0985c93",
   "metadata": {},
   "outputs": [
    {
     "name": "stdout",
     "output_type": "stream",
     "text": [
      "BMI(체질량 지수) :  23.020408163265305\n"
     ]
    }
   ],
   "source": [
    "height = 1.75\n",
    "weight = 70.5\n",
    "\n",
    "bmi = weight / (height ** 2)\n",
    "\n",
    "print(\"BMI(체질량 지수) : \", bmi)"
   ]
  },
  {
   "cell_type": "code",
   "execution_count": null,
   "id": "0468c5c2-331e-45ea-8a60-8e2a413ee6a2",
   "metadata": {},
   "outputs": [],
   "source": []
  }
 ],
 "metadata": {
  "kernelspec": {
   "display_name": "Python 3 (ipykernel)",
   "language": "python",
   "name": "python3"
  },
  "language_info": {
   "codemirror_mode": {
    "name": "ipython",
    "version": 3
   },
   "file_extension": ".py",
   "mimetype": "text/x-python",
   "name": "python",
   "nbconvert_exporter": "python",
   "pygments_lexer": "ipython3",
   "version": "3.12.8"
  }
 },
 "nbformat": 4,
 "nbformat_minor": 5
}
