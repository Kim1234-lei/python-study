{
 "cells": [
  {
   "cell_type": "markdown",
   "id": "a9ead113-dec5-4bef-a129-33543a65aa30",
   "metadata": {},
   "source": [
    "# 1. 조건문 예제\n",
    "\n",
    "## 1.1 짝수와 홀수 판별기기"
   ]
  },
  {
   "cell_type": "code",
   "execution_count": 1,
   "id": "0a83ea06-f6d3-4c30-9025-fe7482bc5d2b",
   "metadata": {},
   "outputs": [
    {
     "name": "stdin",
     "output_type": "stream",
     "text": [
      "정수를 입력하세요 (0 ~ 100) :  12\n"
     ]
    },
    {
     "name": "stdout",
     "output_type": "stream",
     "text": [
      "12은(는) 짝수 입니다.\n"
     ]
    }
   ],
   "source": [
    "number = int(input(\"정수를 입력하세요 (0 ~ 100) : \"))\n",
    "\n",
    "if number % 2 == 0:\n",
    "    print(f\"{number}은(는) 짝수 입니다.\")\n",
    "else:\n",
    "    print(f\"{number}은(는) 홀수 입니다.\")"
   ]
  },
  {
   "cell_type": "markdown",
   "id": "2a3d9132-0282-47d0-b023-5b9a3f0357ea",
   "metadata": {},
   "source": [
    "## 1.2 성적에 따른 학점 출력"
   ]
  },
  {
   "cell_type": "code",
   "execution_count": 3,
   "id": "070b021f-4954-48b1-a4da-6ac29268eefd",
   "metadata": {},
   "outputs": [
    {
     "name": "stdin",
     "output_type": "stream",
     "text": [
      "점수를 입력하세요 (0 ~ 100) :  68\n"
     ]
    },
    {
     "name": "stdout",
     "output_type": "stream",
     "text": [
      "D힉점 입니다.\n"
     ]
    }
   ],
   "source": [
    "# 점수를 입력받아 학점을 출력\n",
    "score = int(input(\"점수를 입력하세요 (0 ~ 100) : \"))\n",
    "\n",
    "if score >= 90:\n",
    "    print(\"A학점 입니다.\")\n",
    "elif score >= 80:\n",
    "    print(\"B학점 입니다.\")\n",
    "elif score >= 70:\n",
    "    print(\"C학점 입니다.\")\n",
    "elif score >= 60:\n",
    "    print(\"D힉점 입니다.\")\n",
    "else:\n",
    "    print(\"F학점 입니다.\")"
   ]
  },
  {
   "cell_type": "markdown",
   "id": "7e472c04-c03c-44d9-9de9-e1b9f1f2bb46",
   "metadata": {},
   "source": [
    "## 1.3 로그인 시스템"
   ]
  },
  {
   "cell_type": "code",
   "execution_count": 7,
   "id": "33c94e74-2f63-4c70-bf57-277785e7c497",
   "metadata": {},
   "outputs": [
    {
     "name": "stdin",
     "output_type": "stream",
     "text": [
      "사용자 아이디를 입력하세요 :  admin\n",
      "사용자 비밀번호를 입력하세요 :  1234\n"
     ]
    },
    {
     "name": "stdout",
     "output_type": "stream",
     "text": [
      "로그인 성공!\n"
     ]
    }
   ],
   "source": [
    "# 간단한 로그인 시스템\n",
    "user_id = \"admin\"\n",
    "user_pw = \"1234\"\n",
    "\n",
    "input_id = input(\"사용자 아이디를 입력하세요 : \")\n",
    "input_pw = input(\"사용자 비밀번호를 입력하세요 : \")\n",
    "\n",
    "if user_id == input_id:\n",
    "    if user_pw == input_pw:\n",
    "        print('로그인 성공!')\n",
    "    else:\n",
    "        print('비밀번호가 틀립니다.')\n",
    "else:\n",
    "    print('등록된 사용자 아이디가 틀립니다.')"
   ]
  },
  {
   "cell_type": "code",
   "execution_count": 9,
   "id": "399de9fa-b8c2-4b05-8209-6d5f1751070d",
   "metadata": {},
   "outputs": [
    {
     "name": "stdin",
     "output_type": "stream",
     "text": [
      "사용자 아이디를 입력하세요 :  cdmin\n",
      "사용자 비밀번호를 입력하세요 :  5678\n"
     ]
    },
    {
     "name": "stdout",
     "output_type": "stream",
     "text": [
      "등록된 사용자 아이디 또는 비밀번호가 틀립니다.\n"
     ]
    }
   ],
   "source": [
    "# 간단한 로그인 시스템\n",
    "user_id = \"admin\"\n",
    "user_pw = \"1234\"\n",
    "\n",
    "input_id = input(\"사용자 아이디를 입력하세요 : \")\n",
    "input_pw = input(\"사용자 비밀번호를 입력하세요 : \")\n",
    "\n",
    "if user_id == input_id and user_pw == input_pw:\n",
    "    print('로그인 성공!')\n",
    "else:\n",
    "    print('등록된 사용자 아이디 또는 비밀번호가 틀립니다.')"
   ]
  },
  {
   "cell_type": "markdown",
   "id": "da05c85f-72ed-4a5b-b0fc-5c6008b14ad3",
   "metadata": {},
   "source": [
    "# 2. 반복문 예제"
   ]
  },
  {
   "cell_type": "markdown",
   "id": "e9d4084d-e868-4cd7-8998-2d3fa1dbbff5",
   "metadata": {},
   "source": [
    "## 2.1 1부터 10까지 출력 (for문)"
   ]
  },
  {
   "cell_type": "code",
   "execution_count": 27,
   "id": "72db93b5-c82e-4cba-8e96-f1ed634a3720",
   "metadata": {},
   "outputs": [
    {
     "name": "stdout",
     "output_type": "stream",
     "text": [
      "1 2 3 4 5 6 7 8 9 10 "
     ]
    }
   ],
   "source": [
    "for i in range(1, 11, 1): # (초기값, 목표값 + 1, 증감값)\n",
    "    print(i, end=\" \")"
   ]
  },
  {
   "cell_type": "code",
   "execution_count": 28,
   "id": "c19bda90-a747-44c2-928a-f053cfc6af33",
   "metadata": {},
   "outputs": [
    {
     "name": "stdout",
     "output_type": "stream",
     "text": [
      "1 3 5 7 9 "
     ]
    }
   ],
   "source": [
    "for i in range(1, 11, 2): # (초기값, 목표값 + 1, 증감값)\n",
    "    print(i, end=\" \")"
   ]
  },
  {
   "cell_type": "code",
   "execution_count": 25,
   "id": "a6978ce6-20b0-494d-83b5-20c10779427c",
   "metadata": {},
   "outputs": [
    {
     "name": "stdout",
     "output_type": "stream",
     "text": [
      "a b c d "
     ]
    }
   ],
   "source": [
    "text_list = [ 'a', 'b', 'c', 'd' ]\n",
    "\n",
    "for txt in text_list:\n",
    "    print(txt, end=\" \")"
   ]
  },
  {
   "cell_type": "markdown",
   "id": "677fb552-b2b1-4e58-a990-02ed65f2e419",
   "metadata": {},
   "source": [
    "## 2.2 특정 구구단 출력"
   ]
  },
  {
   "cell_type": "code",
   "execution_count": 38,
   "id": "6dde91be-a715-478f-8085-9c7bfe83c03b",
   "metadata": {},
   "outputs": [
    {
     "name": "stdin",
     "output_type": "stream",
     "text": [
      "출력 할 구구단의 단수를 입력하세요 :  2\n"
     ]
    },
    {
     "name": "stdout",
     "output_type": "stream",
     "text": [
      "2 X 1 = 2\n",
      "2 X 2 = 4\n",
      "2 X 3 = 6\n",
      "2 X 4 = 8\n",
      "2 X 5 = 10\n",
      "2 X 6 = 12\n",
      "2 X 7 = 14\n",
      "2 X 8 = 16\n",
      "2 X 9 = 18\n"
     ]
    }
   ],
   "source": [
    "# 사용자로부터 구구단 단수를 입력받아 출력\n",
    "dan = int(input(\"출력 할 구구단의 단수를 입력하세요 : \"))\n",
    "\n",
    "for i in range(1, 10):\n",
    "    print(f'{dan} X {i} = {dan * i}')"
   ]
  },
  {
   "cell_type": "markdown",
   "id": "8a89ca36-55e0-410c-983a-755428e6e53c",
   "metadata": {},
   "source": [
    "## 2.3 리스트 요소 출력"
   ]
  },
  {
   "cell_type": "code",
   "execution_count": 39,
   "id": "b66d89a7-1884-4f88-9115-d0ed5bd44e2a",
   "metadata": {},
   "outputs": [
    {
     "name": "stdout",
     "output_type": "stream",
     "text": [
      "사과\n",
      "바나나\n",
      "포도\n",
      "오렌지\n"
     ]
    }
   ],
   "source": [
    "# 리스트에 저장된 과일 이름 출력\n",
    "fruits = [ \"사과\", \"바나나\", \"포도\", \"오렌지\" ]\n",
    "\n",
    "for fruit in fruits:\n",
    "    print(fruit)"
   ]
  },
  {
   "cell_type": "markdown",
   "id": "6fd33d81-0022-4f4b-a018-8eeb6f9734c3",
   "metadata": {},
   "source": [
    "## 2.4 for문 사용해서 1 ~ 100까지 합계 구하기"
   ]
  },
  {
   "cell_type": "code",
   "execution_count": 42,
   "id": "4b58724a-c7ef-4627-97dc-695ce0a24c23",
   "metadata": {},
   "outputs": [
    {
     "name": "stdout",
     "output_type": "stream",
     "text": [
      "합계 :  5050\n"
     ]
    }
   ],
   "source": [
    "sum = 0\n",
    "\n",
    "for i in range(1, 101):\n",
    "    sum = sum + i\n",
    "\n",
    "print('합계 : ', sum)"
   ]
  },
  {
   "cell_type": "markdown",
   "id": "533dbb17-f633-4998-a623-7843d2082816",
   "metadata": {},
   "source": [
    "## 2.5 while문을 사용해서 1 ~ 100까지 합계 구하기"
   ]
  },
  {
   "cell_type": "code",
   "execution_count": 11,
   "id": "01d9226f-b5eb-4fc1-908e-b4a24cb879d9",
   "metadata": {},
   "outputs": [
    {
     "name": "stdout",
     "output_type": "stream",
     "text": [
      "합계 =  5050\n"
     ]
    }
   ],
   "source": [
    "# while문에서 break 사용 예제\n",
    "tot = 0\n",
    "cnt = 0\n",
    "\n",
    "while True:\n",
    "    if cnt > 99:\n",
    "        break\n",
    "        \n",
    "    cnt = cnt + 1\n",
    "    tot = tot + cnt\n",
    "\n",
    "print('합계 = ', tot)"
   ]
  },
  {
   "cell_type": "code",
   "execution_count": 5,
   "id": "c23f9ba7-2fa0-4f3c-9ebb-6378936bdfc6",
   "metadata": {},
   "outputs": [
    {
     "name": "stdout",
     "output_type": "stream",
     "text": [
      "합계 =  5050\n"
     ]
    }
   ],
   "source": [
    "# while문 사용 예제\n",
    "tot = 0\n",
    "cnt = 0\n",
    "while cnt < 100:\n",
    "    cnt = cnt + 1\n",
    "    tot = tot + cnt\n",
    "print('합계 = ', tot)"
   ]
  },
  {
   "cell_type": "code",
   "execution_count": 3,
   "id": "19979552-05a5-4e35-9a6f-a4d8256d9c70",
   "metadata": {},
   "outputs": [
    {
     "name": "stdout",
     "output_type": "stream",
     "text": [
      "1부터 100까지의 합은 5050입니다.\n"
     ]
    }
   ],
   "source": [
    "# while문 사용 예제\n",
    "tot = 0\n",
    "cnt = 0\n",
    "\n",
    "while cnt < 100:\n",
    "    cnt = cnt + 1\n",
    "    tot = tot + cnt\n",
    "\n",
    "print(f'1부터 {cnt}까지의 합은 {tot}입니다.')"
   ]
  },
  {
   "cell_type": "markdown",
   "id": "ff3840bf-407e-4c45-b1bd-6b6c6bdc97b1",
   "metadata": {},
   "source": [
    "## 2.6 continue 사용 예제"
   ]
  },
  {
   "cell_type": "code",
   "execution_count": 7,
   "id": "d518371a-c8a7-414a-a36c-e8229b4f4cd9",
   "metadata": {},
   "outputs": [
    {
     "name": "stdout",
     "output_type": "stream",
     "text": [
      "2\n",
      "4\n",
      "6\n",
      "8\n",
      "10\n"
     ]
    }
   ],
   "source": [
    "# 1 부터 10까지 출력하는데 홀수만 출력하시오.\n",
    "\n",
    "for i in range(1, 11):\n",
    "    if i % 2 == 1:\n",
    "        continue\n",
    "    print(i)"
   ]
  },
  {
   "cell_type": "markdown",
   "id": "ba7f4813-5841-421b-8f63-ac5cbf439ab3",
   "metadata": {},
   "source": [
    "## 2.7 별 출력 프로그램"
   ]
  },
  {
   "cell_type": "code",
   "execution_count": 10,
   "id": "c8eda99b-6fd0-4cb1-8dad-cb51c83583f6",
   "metadata": {},
   "outputs": [
    {
     "name": "stdout",
     "output_type": "stream",
     "text": [
      "**********\n"
     ]
    }
   ],
   "source": [
    "print('*' * 10)"
   ]
  },
  {
   "cell_type": "code",
   "execution_count": 11,
   "id": "b8799eb3-15ff-4e53-8217-dc4dee1ec9ed",
   "metadata": {},
   "outputs": [
    {
     "name": "stdin",
     "output_type": "stream",
     "text": [
      "출력할 줄 수를 입력하세요 :  10\n"
     ]
    },
    {
     "name": "stdout",
     "output_type": "stream",
     "text": [
      "*\n",
      "**\n",
      "***\n",
      "****\n",
      "*****\n",
      "******\n",
      "*******\n",
      "********\n",
      "*********\n",
      "**********\n"
     ]
    }
   ],
   "source": [
    "# 사용자로부터 숫자를 입력받아서 해당 숫자만큼 별을 출력\n",
    "\n",
    "n = int(input(\"출력할 줄 수를 입력하세요 : \"))\n",
    "\n",
    "for i in range(1, n+1):\n",
    "    print('*' * i)"
   ]
  },
  {
   "cell_type": "markdown",
   "id": "d1b2801e-7c68-49e8-bf72-34fcc08a7e79",
   "metadata": {},
   "source": [
    "## 2.8 숫자 피라미드 만들기"
   ]
  },
  {
   "cell_type": "code",
   "execution_count": 33,
   "id": "124c1c97-ba44-4d37-b35d-6c3881c7d327",
   "metadata": {},
   "outputs": [
    {
     "name": "stdin",
     "output_type": "stream",
     "text": [
      "피라미드의 높이를 입력하세요 :  10\n"
     ]
    },
    {
     "name": "stdout",
     "output_type": "stream",
     "text": [
      "1 \n",
      "1 2 \n",
      "1 2 3 \n",
      "1 2 3 4 \n",
      "1 2 3 4 5 \n",
      "1 2 3 4 5 6 \n",
      "1 2 3 4 5 6 7 \n",
      "1 2 3 4 5 6 7 8 \n",
      "1 2 3 4 5 6 7 8 9 \n",
      "1 2 3 4 5 6 7 8 9 10 \n"
     ]
    }
   ],
   "source": [
    "n = int(input(\"피라미드의 높이를 입력하세요 : \"))\n",
    "\n",
    "for i in range(1, n + 1):\n",
    "    for j in range(1, i+1):\n",
    "        print(j, end=\" \")\n",
    "    print()\n",
    "    "
   ]
  },
  {
   "cell_type": "markdown",
   "id": "53aded69-2a71-4b5a-880f-bbb8b3e06ffb",
   "metadata": {},
   "source": [
    "## 2.9 구구단 만들기"
   ]
  },
  {
   "cell_type": "code",
   "execution_count": 25,
   "id": "307bb1ff-6774-4954-b671-024db98bb4ad",
   "metadata": {
    "scrolled": true
   },
   "outputs": [
    {
     "name": "stdout",
     "output_type": "stream",
     "text": [
      "\n",
      "  1 단             2 단                  3 단\n",
      " 1 X 1 = 1          2 X 1 = 2             3 X 1 = 3\n",
      " 1 X 2 = 2          2 X 2 = 4             3 X 2 = 6\n",
      " 1 X 3 = 3          2 X 3 = 6             3 X 3 = 9\n",
      " 1 X 4 = 4          2 X 4 = 8             3 X 4 = 12\n",
      " 1 X 5 = 5          2 X 5 = 10             3 X 5 = 15\n",
      " 1 X 6 = 6          2 X 6 = 12             3 X 6 = 18\n",
      " 1 X 7 = 7          2 X 7 = 14             3 X 7 = 21\n",
      " 1 X 8 = 8          2 X 8 = 16             3 X 8 = 24\n",
      " 1 X 9 = 9          2 X 9 = 18             3 X 9 = 27\n",
      "\n",
      "  4 단             5 단                  6 단\n",
      " 4 X 1 = 4          5 X 1 = 5             6 X 1 = 6\n",
      " 4 X 2 = 8          5 X 2 = 10             6 X 2 = 12\n",
      " 4 X 3 = 12          5 X 3 = 15             6 X 3 = 18\n",
      " 4 X 4 = 16          5 X 4 = 20             6 X 4 = 24\n",
      " 4 X 5 = 20          5 X 5 = 25             6 X 5 = 30\n",
      " 4 X 6 = 24          5 X 6 = 30             6 X 6 = 36\n",
      " 4 X 7 = 28          5 X 7 = 35             6 X 7 = 42\n",
      " 4 X 8 = 32          5 X 8 = 40             6 X 8 = 48\n",
      " 4 X 9 = 36          5 X 9 = 45             6 X 9 = 54\n",
      "\n",
      "  7 단             8 단                  9 단\n",
      " 7 X 1 = 7          8 X 1 = 8             9 X 1 = 9\n",
      " 7 X 2 = 14          8 X 2 = 16             9 X 2 = 18\n",
      " 7 X 3 = 21          8 X 3 = 24             9 X 3 = 27\n",
      " 7 X 4 = 28          8 X 4 = 32             9 X 4 = 36\n",
      " 7 X 5 = 35          8 X 5 = 40             9 X 5 = 45\n",
      " 7 X 6 = 42          8 X 6 = 48             9 X 6 = 54\n",
      " 7 X 7 = 49          8 X 7 = 56             9 X 7 = 63\n",
      " 7 X 8 = 56          8 X 8 = 64             9 X 8 = 72\n",
      " 7 X 9 = 63          8 X 9 = 72             9 X 9 = 81\n"
     ]
    }
   ],
   "source": [
    "for i in range(1, 10, 3):\n",
    "    print(f'\\n  {i} 단             {i+1} 단                  {i+2} 단')\n",
    "    for j in range(1, 10):\n",
    "        print(f' {i} X {j} = {i * j}          {i+1} X {j} = {(i+1) * j}             {i+2} X {j} = {(i+2) * j}')"
   ]
  },
  {
   "cell_type": "markdown",
   "id": "ef4cbcab-c401-4b37-a317-1ef5f67e3b1b",
   "metadata": {},
   "source": [
    "# 원 그리기"
   ]
  },
  {
   "cell_type": "code",
   "execution_count": 26,
   "id": "fd92fdbc-e82f-466f-a81d-687b7a10daf6",
   "metadata": {},
   "outputs": [],
   "source": [
    "import turtle"
   ]
  },
  {
   "cell_type": "code",
   "execution_count": 27,
   "id": "034e88b6-b4b7-47fa-8d4e-bc09c8939081",
   "metadata": {},
   "outputs": [],
   "source": [
    "t = turtle.Turtle()\n",
    "t.circle(100)        # 반지름이 100인 원을 그려라\n",
    "t.left(60)          # 각도를 왼쪽으로 60도만큼 회전\n",
    "\n",
    "t.circle(100)        # 반지름이 100인 원을 그려라\n",
    "t.left(60)          # 각도를 왼쪽으로 60도만큼 회전\n",
    "\n",
    "t.circle(100)        # 반지름이 100인 원을 그려라\n",
    "t.left(60)          # 각도를 왼쪽으로 60도만큼 회전\n",
    "\n",
    "t.circle(100)        # 반지름이 100인 원을 그려라\n",
    "t.left(60)          # 각도를 왼쪽으로 60도만큼 회전\n",
    "\n",
    "t.circle(100)        # 반지름이 100인 원을 그려라\n",
    "t.left(60)          # 각도를 왼쪽으로 60도만큼 회전\n",
    "\n",
    "t.circle(100)        # 반지름이 100인 원을 그려라\n",
    "t.left(60)          # 각도를 왼쪽으로 60도만큼 회전\n",
    "\n",
    "turtle.exitonclick()"
   ]
  },
  {
   "cell_type": "code",
   "execution_count": 1,
   "id": "b916146c-9f75-44c2-be4c-374fd9351c92",
   "metadata": {},
   "outputs": [],
   "source": [
    "import turtle\n",
    "t = turtle.Turtle()\n",
    "\n",
    "for _ in range(6):\n",
    "    t.circle(100)        # 반지름이 100인 원을 그려라\n",
    "    t.left(60)          # 각도를 왼쪽으로 60도만큼 회전\n",
    "\n",
    "turtle.exitonclick()"
   ]
  },
  {
   "cell_type": "markdown",
   "id": "cdb0de94-ba41-486a-8bbf-c77f926c7c77",
   "metadata": {},
   "source": [
    "# n 각형 그리기\n",
    "- 사용자로부터 정수 n (3 이상) 을 입력받아서 한 변의 길이가 100인 정 n각형을 그리는 \n",
    "  프로그램을 작성하시오."
   ]
  },
  {
   "cell_type": "code",
   "execution_count": 14,
   "id": "73aee395-4cce-4e2d-a0b2-dbb488643179",
   "metadata": {},
   "outputs": [],
   "source": [
    "# 별을 그리는 프로그램을 작성하시오\n",
    "\n",
    "import turtle\n",
    "import time\n",
    "t = turtle.Turtle()\n",
    "\n",
    "#n = int(input(\"3 이상 정수를 입력하세요 : \"))\n",
    "\n",
    "for _ in range(5):\n",
    "    time.sleep(1)\n",
    "    t.forward(200)\n",
    "    t.left((360 / 5)*2)\n",
    "\n",
    "t.right(77)\n",
    "t.circle(100)\n",
    "\n",
    "turtle.exitonclick()\n",
    "\n",
    "del t\n",
    "try:\n",
    "    turtle.bye()\n",
    "except:\n",
    "    pass"
   ]
  },
  {
   "cell_type": "code",
   "execution_count": null,
   "id": "df1287df-6ef9-46d9-919f-1ed8c5bad635",
   "metadata": {},
   "outputs": [],
   "source": []
  }
 ],
 "metadata": {
  "kernelspec": {
   "display_name": "Python 3 (ipykernel)",
   "language": "python",
   "name": "python3"
  },
  "language_info": {
   "codemirror_mode": {
    "name": "ipython",
    "version": 3
   },
   "file_extension": ".py",
   "mimetype": "text/x-python",
   "name": "python",
   "nbconvert_exporter": "python",
   "pygments_lexer": "ipython3",
   "version": "3.12.8"
  }
 },
 "nbformat": 4,
 "nbformat_minor": 5
}
