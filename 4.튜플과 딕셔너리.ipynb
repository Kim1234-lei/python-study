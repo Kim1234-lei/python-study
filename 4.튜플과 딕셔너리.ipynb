{
 "cells": [
  {
   "cell_type": "code",
   "execution_count": 1,
   "id": "56cb8663-daf6-4b13-852f-b34deb50b5ea",
   "metadata": {},
   "outputs": [
    {
     "data": {
      "text/plain": [
       "('스쿼트', '런지', '레그컬')"
      ]
     },
     "execution_count": 1,
     "metadata": {},
     "output_type": "execute_result"
    }
   ],
   "source": [
    "# 튜플은 프로그램이 시작되면 내용을 변경 할 수 없음\n",
    "# 중요 개인정보를 데이터 처리할 때 사용\n",
    "\n",
    "leg_day = ( '스쿼트', '런지', '레그컬' )\n",
    "leg_day"
   ]
  },
  {
   "cell_type": "code",
   "execution_count": 2,
   "id": "c3e4b8b5-a1aa-464d-902e-8788a5650b01",
   "metadata": {},
   "outputs": [
    {
     "data": {
      "text/plain": [
       "'스쿼트'"
      ]
     },
     "execution_count": 2,
     "metadata": {},
     "output_type": "execute_result"
    }
   ],
   "source": [
    "leg_day[0]"
   ]
  },
  {
   "cell_type": "code",
   "execution_count": 3,
   "id": "9050becd-111f-4b06-886c-6b976034fdf2",
   "metadata": {},
   "outputs": [
    {
     "ename": "TypeError",
     "evalue": "'tuple' object does not support item assignment",
     "output_type": "error",
     "traceback": [
      "\u001b[1;31m---------------------------------------------------------------------------\u001b[0m",
      "\u001b[1;31mTypeError\u001b[0m                                 Traceback (most recent call last)",
      "Cell \u001b[1;32mIn[3], line 1\u001b[0m\n\u001b[1;32m----> 1\u001b[0m leg_day[\u001b[38;5;241m0\u001b[39m] \u001b[38;5;241m=\u001b[39m \u001b[38;5;124m'\u001b[39m\u001b[38;5;124m벤치프레스\u001b[39m\u001b[38;5;124m'\u001b[39m\n",
      "\u001b[1;31mTypeError\u001b[0m: 'tuple' object does not support item assignment"
     ]
    }
   ],
   "source": [
    "leg_day[0] = '벤치프레스'"
   ]
  },
  {
   "cell_type": "code",
   "execution_count": 4,
   "id": "7fa39c53-f859-40a2-9ea7-4d0cd3f38f21",
   "metadata": {},
   "outputs": [
    {
     "ename": "AttributeError",
     "evalue": "'tuple' object has no attribute 'append'",
     "output_type": "error",
     "traceback": [
      "\u001b[1;31m---------------------------------------------------------------------------\u001b[0m",
      "\u001b[1;31mAttributeError\u001b[0m                            Traceback (most recent call last)",
      "Cell \u001b[1;32mIn[4], line 1\u001b[0m\n\u001b[1;32m----> 1\u001b[0m leg_day\u001b[38;5;241m.\u001b[39mappend(\u001b[38;5;124m'\u001b[39m\u001b[38;5;124m숄더프레스\u001b[39m\u001b[38;5;124m'\u001b[39m)\n",
      "\u001b[1;31mAttributeError\u001b[0m: 'tuple' object has no attribute 'append'"
     ]
    }
   ],
   "source": [
    "leg_day.append('숄더프레스')"
   ]
  },
  {
   "cell_type": "code",
   "execution_count": 5,
   "id": "fe365b4c-6874-4039-8cbf-23822e33d2b5",
   "metadata": {},
   "outputs": [
    {
     "ename": "TypeError",
     "evalue": "'tuple' object doesn't support item deletion",
     "output_type": "error",
     "traceback": [
      "\u001b[1;31m---------------------------------------------------------------------------\u001b[0m",
      "\u001b[1;31mTypeError\u001b[0m                                 Traceback (most recent call last)",
      "Cell \u001b[1;32mIn[5], line 1\u001b[0m\n\u001b[1;32m----> 1\u001b[0m \u001b[38;5;28;01mdel\u001b[39;00m leg_day[\u001b[38;5;241m0\u001b[39m]\n",
      "\u001b[1;31mTypeError\u001b[0m: 'tuple' object doesn't support item deletion"
     ]
    }
   ],
   "source": [
    "del leg_day[0]"
   ]
  },
  {
   "cell_type": "code",
   "execution_count": 6,
   "id": "781876b8-dad5-4438-920a-668837d0cad5",
   "metadata": {},
   "outputs": [
    {
     "data": {
      "text/plain": [
       "{'삼성전자': 60000, 'SK하이닉스': 140000, '네이버': 350000}"
      ]
     },
     "execution_count": 6,
     "metadata": {},
     "output_type": "execute_result"
    }
   ],
   "source": [
    "# 딕셔너리 { key : value }\n",
    "\n",
    "stock_prices = {\n",
    "    '삼성전자':60000,\n",
    "    'SK하이닉스':140000,\n",
    "    '네이버':350000\n",
    "}\n",
    "\n",
    "stock_prices"
   ]
  },
  {
   "cell_type": "code",
   "execution_count": 7,
   "id": "8748ec5d-4579-4893-b368-049aeeaa7151",
   "metadata": {},
   "outputs": [
    {
     "data": {
      "text/plain": [
       "60000"
      ]
     },
     "execution_count": 7,
     "metadata": {},
     "output_type": "execute_result"
    }
   ],
   "source": [
    "stock_prices['삼성전자']"
   ]
  },
  {
   "cell_type": "code",
   "execution_count": 8,
   "id": "3666c60b-a48e-43ac-806f-ae086bcb3591",
   "metadata": {},
   "outputs": [
    {
     "ename": "KeyError",
     "evalue": "'카카오'",
     "output_type": "error",
     "traceback": [
      "\u001b[1;31m---------------------------------------------------------------------------\u001b[0m",
      "\u001b[1;31mKeyError\u001b[0m                                  Traceback (most recent call last)",
      "Cell \u001b[1;32mIn[8], line 1\u001b[0m\n\u001b[1;32m----> 1\u001b[0m stock_prices[\u001b[38;5;124m'\u001b[39m\u001b[38;5;124m카카오\u001b[39m\u001b[38;5;124m'\u001b[39m]\n",
      "\u001b[1;31mKeyError\u001b[0m: '카카오'"
     ]
    }
   ],
   "source": [
    "stock_prices['카카오']"
   ]
  },
  {
   "cell_type": "code",
   "execution_count": 14,
   "id": "637d6bca-eca6-4443-b710-41d43240b783",
   "metadata": {},
   "outputs": [
    {
     "name": "stdout",
     "output_type": "stream",
     "text": [
      "삼성전자\n",
      "SK하이닉스\n",
      "네이버\n"
     ]
    }
   ],
   "source": [
    "for key_value in stock_prices:\n",
    "    print(key_value)"
   ]
  },
  {
   "cell_type": "code",
   "execution_count": 11,
   "id": "9ea30d94-7fee-4236-8411-4c67b1540ce0",
   "metadata": {},
   "outputs": [
    {
     "name": "stdout",
     "output_type": "stream",
     "text": [
      "삼성전자\n",
      "SK하이닉스\n",
      "네이버\n"
     ]
    }
   ],
   "source": [
    "for key in stock_prices.keys():\n",
    "    print(key)"
   ]
  },
  {
   "cell_type": "code",
   "execution_count": 12,
   "id": "16b6836c-8471-4c66-9415-ea2f544fccf6",
   "metadata": {},
   "outputs": [
    {
     "name": "stdout",
     "output_type": "stream",
     "text": [
      "60000\n",
      "140000\n",
      "350000\n"
     ]
    }
   ],
   "source": [
    "for value in stock_prices.values():\n",
    "    print(value)"
   ]
  },
  {
   "cell_type": "code",
   "execution_count": 13,
   "id": "7df1875a-c5f5-4a55-926a-990a10a377b0",
   "metadata": {},
   "outputs": [
    {
     "name": "stdout",
     "output_type": "stream",
     "text": [
      "삼성전자 60000\n",
      "SK하이닉스 140000\n",
      "네이버 350000\n"
     ]
    }
   ],
   "source": [
    "for key, value in stock_prices.items():\n",
    "    print(key, value)"
   ]
  },
  {
   "cell_type": "code",
   "execution_count": 1,
   "id": "323297b9-cd85-4da2-ba93-1b04a084157f",
   "metadata": {},
   "outputs": [
    {
     "name": "stdout",
     "output_type": "stream",
     "text": [
      "삼성전자 평균 주가 61000\n",
      "SK하이닉스 평균 주가 143666\n",
      "네이버 평균 주가 355000\n"
     ]
    }
   ],
   "source": [
    "# key 별 주가를 더해서 평균 주가 프린트 - sum(), len()\n",
    "\n",
    "stock_prices = {\n",
    "    '삼성전자':[60000, 61000, 62000],\n",
    "    'SK하이닉스':[140000, 141000, 150000],\n",
    "    '네이버':[350000, 355000, 360000]\n",
    "}\n",
    "\n",
    "for key, value in stock_prices.items():\n",
    "    avg = sum(value) / len(value)\n",
    "    print(f'{key} 평균 주가 {int(avg)}')"
   ]
  },
  {
   "cell_type": "code",
   "execution_count": 31,
   "id": "6dd03a94-f1b7-4a22-a704-e0d5fc7ba787",
   "metadata": {},
   "outputs": [
    {
     "name": "stdout",
     "output_type": "stream",
     "text": [
      "삼성전자 - 최고가 : 80000, 최저가 : 61000\n",
      "SK하이닉스 - 최고가 : 160000, 최저가 : 141000\n",
      "네이버 - 최고가 : 400000, 최저가 : 305000\n"
     ]
    }
   ],
   "source": [
    "# 각 회사별로 주가의 최고가와 최저가를 구하시오.\n",
    "stock_prices = {\n",
    "    '삼성전자':{'최고가':80000, '최저가':61000, '현재가':62000},\n",
    "    'SK하이닉스':{'최고가':160000, '최저가':141000, '현재가':150000},\n",
    "    '네이버':{'최고가':400000, '최저가':305000, '현재가':360000}\n",
    "}\n",
    "\n",
    "for key, value in stock_prices.items():\n",
    "    print(f'{key} - 최고가 : {value[\"최고가\"]}, 최저가 : {value[\"최저가\"]}')"
   ]
  },
  {
   "cell_type": "code",
   "execution_count": 30,
   "id": "903307e8-d92c-4c0d-8956-1690516e4c1a",
   "metadata": {},
   "outputs": [
    {
     "name": "stdout",
     "output_type": "stream",
     "text": [
      "삼성전자 - 최고가 : 80000, 최저가 : 61000\n",
      "SK하이닉스 - 최고가 : 160000, 최저가 : 141000\n",
      "네이버 - 최고가 : 400000, 최저가 : 305000\n"
     ]
    }
   ],
   "source": [
    "for key, value in stock_prices.items():\n",
    "    max_value = value[\"최고가\"]\n",
    "    min_value = value[\"최저가\"]\n",
    "    print(f'{key} - 최고가 : {value[\"최고가\"]}, 최저가 : {value[\"최저가\"]}')"
   ]
  },
  {
   "cell_type": "code",
   "execution_count": null,
   "id": "0cbff030-e2dc-4863-86d7-5a6171ab0b0a",
   "metadata": {},
   "outputs": [],
   "source": []
  }
 ],
 "metadata": {
  "kernelspec": {
   "display_name": "Python 3 (ipykernel)",
   "language": "python",
   "name": "python3"
  },
  "language_info": {
   "codemirror_mode": {
    "name": "ipython",
    "version": 3
   },
   "file_extension": ".py",
   "mimetype": "text/x-python",
   "name": "python",
   "nbconvert_exporter": "python",
   "pygments_lexer": "ipython3",
   "version": "3.12.8"
  }
 },
 "nbformat": 4,
 "nbformat_minor": 5
}
