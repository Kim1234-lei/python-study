{
 "cells": [
  {
   "cell_type": "code",
   "execution_count": 13,
   "id": "b646cef3-e1ca-416f-8a21-fa8a3e398e15",
   "metadata": {},
   "outputs": [],
   "source": [
    "# 함수는 def 함수명( 함수 안에서 사용 할 변수들 ):\n",
    "\n",
    "def add(a, b):\n",
    "    return a + b\n",
    "\n",
    "def sub(a, b):\n",
    "    return a - b\n",
    "\n",
    "def mul(a, b):\n",
    "    return a * b\n",
    "\n",
    "def div(a, b):\n",
    "    if b == 0:\n",
    "        return \"b = 0\""
   ]
  },
  {
   "cell_type": "code",
   "execution_count": 8,
   "id": "9da7f59d-942c-4bfb-8aa3-9f41940b124c",
   "metadata": {},
   "outputs": [
    {
     "data": {
      "text/plain": [
       "3"
      ]
     },
     "execution_count": 8,
     "metadata": {},
     "output_type": "execute_result"
    }
   ],
   "source": [
    "c = 1\n",
    "d = 2\n",
    "add(c, d)"
   ]
  },
  {
   "cell_type": "code",
   "execution_count": 9,
   "id": "de729dc0-e1cb-40a5-8cbd-0c106a3dcbc6",
   "metadata": {},
   "outputs": [
    {
     "data": {
      "text/plain": [
       "-1"
      ]
     },
     "execution_count": 9,
     "metadata": {},
     "output_type": "execute_result"
    }
   ],
   "source": [
    "sub(c, d)"
   ]
  },
  {
   "cell_type": "code",
   "execution_count": 10,
   "id": "5fc610a7-91ac-4910-8c3f-3b73c868ab38",
   "metadata": {},
   "outputs": [
    {
     "data": {
      "text/plain": [
       "2"
      ]
     },
     "execution_count": 10,
     "metadata": {},
     "output_type": "execute_result"
    }
   ],
   "source": [
    "mul(c, d)"
   ]
  },
  {
   "cell_type": "code",
   "execution_count": 14,
   "id": "3fc6fbc2-a1b6-423f-a5c5-87ab98ffd08e",
   "metadata": {},
   "outputs": [
    {
     "data": {
      "text/plain": [
       "'b = 0'"
      ]
     },
     "execution_count": 14,
     "metadata": {},
     "output_type": "execute_result"
    }
   ],
   "source": [
    "c = 1\n",
    "d = 0\n",
    "div(c, d)"
   ]
  },
  {
   "cell_type": "markdown",
   "id": "e23a1248-56dd-45e6-b16d-33e68c18fcfc",
   "metadata": {},
   "source": [
    "# 전역변수와 지역변수"
   ]
  },
  {
   "cell_type": "code",
   "execution_count": 21,
   "id": "4a611e37-7368-4a45-8707-89ec330c5caa",
   "metadata": {},
   "outputs": [],
   "source": [
    "def user_avg(a, b, c):\n",
    "    avg = (a + b + c) / 3\n",
    "    return avg"
   ]
  },
  {
   "cell_type": "code",
   "execution_count": 23,
   "id": "9fec805c-2f49-4d5e-af30-6ef27acb2a60",
   "metadata": {},
   "outputs": [
    {
     "data": {
      "text/plain": [
       "2.0"
      ]
     },
     "execution_count": 23,
     "metadata": {},
     "output_type": "execute_result"
    }
   ],
   "source": [
    "result = user_avg(1,2,3)\n",
    "result"
   ]
  },
  {
   "cell_type": "code",
   "execution_count": 26,
   "id": "dacdba8d-152d-4be8-97f1-b96296b012cb",
   "metadata": {},
   "outputs": [],
   "source": [
    "def user_avg(a, b, c):\n",
    "    avg = (a + b + c) / d\n",
    "    return avg"
   ]
  },
  {
   "cell_type": "code",
   "execution_count": 27,
   "id": "6ab64381-142a-4753-9662-cc40c5fab2af",
   "metadata": {},
   "outputs": [
    {
     "data": {
      "text/plain": [
       "0.6"
      ]
     },
     "execution_count": 27,
     "metadata": {},
     "output_type": "execute_result"
    }
   ],
   "source": [
    "d = 10            # 전역변수 > 함수 안에서도 사용 가능\n",
    "user_avg(1,2,3)"
   ]
  },
  {
   "cell_type": "code",
   "execution_count": 4,
   "id": "4309044f-65af-4d8e-a83e-8ad2c978a2a6",
   "metadata": {},
   "outputs": [],
   "source": [
    "def user_avg(a, b, c):\n",
    "    global avg2                 # global은 지역변수를 전역변수화 함\n",
    "    avg2 = (a + b + c) / d"
   ]
  },
  {
   "cell_type": "code",
   "execution_count": 6,
   "id": "14c08e78-055d-4e35-a94f-c768bda66a4d",
   "metadata": {},
   "outputs": [],
   "source": [
    "d = 10\n",
    "user_avg(1,2,3)"
   ]
  },
  {
   "cell_type": "code",
   "execution_count": 7,
   "id": "7494f99d-3d31-4e0d-b1f9-80bdc34cb010",
   "metadata": {},
   "outputs": [
    {
     "name": "stdout",
     "output_type": "stream",
     "text": [
      "0.6\n"
     ]
    }
   ],
   "source": [
    "print(avg2)"
   ]
  },
  {
   "cell_type": "markdown",
   "id": "8a2f58df-5c6d-4470-9a0b-384cd02779be",
   "metadata": {},
   "source": [
    "# 변수값의 교환(swap)"
   ]
  },
  {
   "cell_type": "code",
   "execution_count": 11,
   "id": "38816bdd-800c-4695-a5ec-73548aab2641",
   "metadata": {},
   "outputs": [
    {
     "name": "stdout",
     "output_type": "stream",
     "text": [
      "swap전 na 값 :  10  swap전 nb 값 :  20\n",
      "swap후 na 값 :  20  swap후 nb 값 :  20\n"
     ]
    }
   ],
   "source": [
    "na = 10\n",
    "nb = 20\n",
    "\n",
    "print(\"swap전 na 값 : \", na, \" swap전 nb 값 : \", nb)\n",
    "na = nb\n",
    "print(\"swap후 na 값 : \", na, \" swap후 nb 값 : \", nb)"
   ]
  },
  {
   "cell_type": "code",
   "execution_count": 12,
   "id": "58924af5-2c68-4c28-bf44-eb5367c321c3",
   "metadata": {},
   "outputs": [
    {
     "name": "stdout",
     "output_type": "stream",
     "text": [
      "swap전 na 값 :  10  swap전 nb 값 :  20\n",
      "swap후 na 값 :  20  swap후 nb 값 :  10\n"
     ]
    }
   ],
   "source": [
    "na = 10\n",
    "nb = 20\n",
    "\n",
    "print(\"swap전 na 값 : \", na, \" swap전 nb 값 : \", nb)\n",
    "temp = na\n",
    "na = nb\n",
    "nb = temp\n",
    "print(\"swap후 na 값 : \", na, \" swap후 nb 값 : \", nb)"
   ]
  },
  {
   "cell_type": "code",
   "execution_count": 23,
   "id": "59781059-94ed-42e2-a9c9-b369d84afbfd",
   "metadata": {},
   "outputs": [
    {
     "name": "stdout",
     "output_type": "stream",
     "text": [
      "swap전 na 값 :  10  swap전 nb 값 :  20\n",
      "swap후 na 값 :  20  swap후 nb 값 :  10\n"
     ]
    }
   ],
   "source": [
    "def swapa():\n",
    "    global na, nb\n",
    "    temp = na\n",
    "    na = nb\n",
    "    nb = temp\n",
    "\n",
    "na = 10\n",
    "nb = 20\n",
    "\n",
    "print(\"swap전 na 값 : \", na, \" swap전 nb 값 : \", nb)\n",
    "swapa()\n",
    "print(\"swap후 na 값 : \", na, \" swap후 nb 값 : \", nb)"
   ]
  },
  {
   "cell_type": "code",
   "execution_count": 19,
   "id": "0d9c306c-fc6e-4c4f-bd30-42f86a389036",
   "metadata": {},
   "outputs": [
    {
     "name": "stdout",
     "output_type": "stream",
     "text": [
      "swap전 na 값 :  10  swap전 nb 값 :  20\n",
      "swap후 na 값 :  20  swap후 nb 값 :  10\n"
     ]
    }
   ],
   "source": [
    "def swapa(pa, pb):\n",
    "    temp = pa\n",
    "    pa = pb\n",
    "    pb = temp\n",
    "    return pa, pb\n",
    "\n",
    "na = 10\n",
    "nb = 20\n",
    "print(\"swap전 na 값 : \", na, \" swap전 nb 값 : \", nb)\n",
    "\n",
    "na, nb = swapa(na, nb)\n",
    "print(\"swap후 na 값 : \", na, \" swap후 nb 값 : \", nb)"
   ]
  },
  {
   "cell_type": "code",
   "execution_count": 24,
   "id": "a091abbb-087a-404d-afa9-a640e2b06d71",
   "metadata": {},
   "outputs": [],
   "source": [
    "def persona(width, height):\n",
    "    print(\" 함수 디폴트 값 없음, width = \", width, \" height = \", height)\n",
    "\n",
    "def personb(width=60, height=180):\n",
    "    print(\" 함수 디폴트 값 없음, width = \", width, \" height = \", height)"
   ]
  },
  {
   "cell_type": "code",
   "execution_count": 25,
   "id": "94006b63-38e2-41da-8eec-ef4c65af0852",
   "metadata": {},
   "outputs": [
    {
     "name": "stdout",
     "output_type": "stream",
     "text": [
      " 함수 디폴트 값 없음, width =  10  height =  20\n"
     ]
    }
   ],
   "source": [
    "persona(10,20)"
   ]
  },
  {
   "cell_type": "code",
   "execution_count": 26,
   "id": "1f67d50a-25da-40e9-bb11-728373fb6a94",
   "metadata": {},
   "outputs": [
    {
     "name": "stdout",
     "output_type": "stream",
     "text": [
      " 함수 디폴트 값 없음, width =  60  height =  180\n"
     ]
    }
   ],
   "source": [
    "personb()"
   ]
  },
  {
   "cell_type": "code",
   "execution_count": 27,
   "id": "0c2b0a8c-195e-45ea-9a79-841f113da1c7",
   "metadata": {},
   "outputs": [
    {
     "name": "stdout",
     "output_type": "stream",
     "text": [
      " 함수 디폴트 값 없음, width =  50  height =  180\n"
     ]
    }
   ],
   "source": [
    "personb(50)"
   ]
  },
  {
   "cell_type": "code",
   "execution_count": 29,
   "id": "5acda156-cd52-4f24-8b12-1b2fc3c922a3",
   "metadata": {},
   "outputs": [
    {
     "name": "stdout",
     "output_type": "stream",
     "text": [
      " 함수 디폴트 값 없음, width =  50  height =  190\n"
     ]
    }
   ],
   "source": [
    "personb(50, 190)"
   ]
  },
  {
   "cell_type": "code",
   "execution_count": 30,
   "id": "5a48c9aa-6b6d-413a-82ee-80a182b646fe",
   "metadata": {},
   "outputs": [
    {
     "ename": "SyntaxError",
     "evalue": "invalid syntax (2869365398.py, line 1)",
     "output_type": "error",
     "traceback": [
      "\u001b[1;36m  Cell \u001b[1;32mIn[30], line 1\u001b[1;36m\u001b[0m\n\u001b[1;33m    personb(, 190)\u001b[0m\n\u001b[1;37m            ^\u001b[0m\n\u001b[1;31mSyntaxError\u001b[0m\u001b[1;31m:\u001b[0m invalid syntax\n"
     ]
    }
   ],
   "source": [
    "personb(, 190) # 파라미터는 순서대로 사용 할 수 있음"
   ]
  },
  {
   "cell_type": "code",
   "execution_count": 32,
   "id": "cd332c3b-78c4-4923-be71-e1f5ab6f9c53",
   "metadata": {},
   "outputs": [
    {
     "name": "stdout",
     "output_type": "stream",
     "text": [
      "[0]\n"
     ]
    }
   ],
   "source": [
    "def fget(nums=[0]):\n",
    "    return nums\n",
    "\n",
    "result1 = fget()\n",
    "print(result1)"
   ]
  },
  {
   "cell_type": "code",
   "execution_count": 34,
   "id": "559878be-9bd0-4aff-88b1-aaa7faa862a5",
   "metadata": {},
   "outputs": [
    {
     "name": "stdout",
     "output_type": "stream",
     "text": [
      "[1, 2, 3, 4, 5]\n"
     ]
    }
   ],
   "source": [
    "result2 = fget([1, 2, 3, 4, 5])\n",
    "print(result2)"
   ]
  },
  {
   "cell_type": "code",
   "execution_count": 35,
   "id": "503dfe67-e81c-4a8a-a882-906dd9c9e991",
   "metadata": {},
   "outputs": [],
   "source": [
    "def fgets(nums=[0]):\n",
    "    for n in nums:\n",
    "        print(n)"
   ]
  },
  {
   "cell_type": "code",
   "execution_count": 36,
   "id": "7d1c7d6f-dbb8-4734-ad09-9685e2c21a3f",
   "metadata": {},
   "outputs": [
    {
     "name": "stdout",
     "output_type": "stream",
     "text": [
      "0\n"
     ]
    }
   ],
   "source": [
    "fgets()"
   ]
  },
  {
   "cell_type": "code",
   "execution_count": 37,
   "id": "8c60dc25-56b9-40cb-8ff7-04eb43712012",
   "metadata": {},
   "outputs": [
    {
     "name": "stdout",
     "output_type": "stream",
     "text": [
      "1\n",
      "2\n",
      "3\n",
      "4\n",
      "5\n"
     ]
    }
   ],
   "source": [
    "fgets([1, 2, 3, 4, 5])"
   ]
  },
  {
   "cell_type": "code",
   "execution_count": null,
   "id": "4a4af65d-185e-4b91-a784-1c3832251ba5",
   "metadata": {},
   "outputs": [],
   "source": []
  }
 ],
 "metadata": {
  "kernelspec": {
   "display_name": "Python 3 (ipykernel)",
   "language": "python",
   "name": "python3"
  },
  "language_info": {
   "codemirror_mode": {
    "name": "ipython",
    "version": 3
   },
   "file_extension": ".py",
   "mimetype": "text/x-python",
   "name": "python",
   "nbconvert_exporter": "python",
   "pygments_lexer": "ipython3",
   "version": "3.12.8"
  }
 },
 "nbformat": 4,
 "nbformat_minor": 5
}
