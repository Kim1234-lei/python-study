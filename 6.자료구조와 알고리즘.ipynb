{
 "cells": [
  {
   "cell_type": "markdown",
   "id": "ff974aeb-5512-4ffc-8332-b46a6d722989",
   "metadata": {},
   "source": [
    "# 최댓값 찾기(if문 사용)"
   ]
  },
  {
   "cell_type": "code",
   "execution_count": 1,
   "id": "450e7866-4af3-4e3e-8617-44ac5a52d072",
   "metadata": {},
   "outputs": [
    {
     "name": "stdout",
     "output_type": "stream",
     "text": [
      "17\n"
     ]
    }
   ],
   "source": [
    "ca = [10, 17, 13, 11]\n",
    "\n",
    "max = ca[0]\n",
    "if max < ca[1]:\n",
    "    max = ca[1]\n",
    "\n",
    "if max < ca[2]:\n",
    "    max = ca[2]\n",
    "\n",
    "if max < ca[3]:\n",
    "    max = ca[3]\n",
    "\n",
    "print(max)"
   ]
  },
  {
   "cell_type": "markdown",
   "id": "b3b74a04-4575-4a06-b79b-4985c8117927",
   "metadata": {},
   "source": [
    "# for문을 사용해서 최댓값 찾기"
   ]
  },
  {
   "cell_type": "code",
   "execution_count": 2,
   "id": "f113dd12-e5c5-432c-875e-1c4feb3021c5",
   "metadata": {},
   "outputs": [
    {
     "name": "stdout",
     "output_type": "stream",
     "text": [
      "17\n"
     ]
    }
   ],
   "source": [
    "ca = [10, 17, 13, 11]\n",
    "\n",
    "maxc = ca[0]\n",
    "for sb in range(1, 4):\n",
    "    if maxc < ca[sb]:\n",
    "        maxc = ca[sb]\n",
    "\n",
    "print(max)"
   ]
  },
  {
   "cell_type": "markdown",
   "id": "d7504696-8133-408c-b6af-4894bf77ae24",
   "metadata": {},
   "source": [
    "# 원소의 갯수를 모를 경우"
   ]
  },
  {
   "cell_type": "code",
   "execution_count": 4,
   "id": "313cef7a-07dd-4102-aa39-8a0ab3a868c9",
   "metadata": {},
   "outputs": [
    {
     "name": "stdout",
     "output_type": "stream",
     "text": [
      "17\n"
     ]
    }
   ],
   "source": [
    "ca = [10, 17, 13, 11]\n",
    "\n",
    "max = ca[0]\n",
    "for sb in ca:\n",
    "    if max < sb:\n",
    "        max = sb\n",
    "\n",
    "print(max)"
   ]
  },
  {
   "cell_type": "code",
   "execution_count": 4,
   "id": "cc007c97-0853-4bf7-87ce-735e07c65a27",
   "metadata": {},
   "outputs": [
    {
     "name": "stdout",
     "output_type": "stream",
     "text": [
      "17\n"
     ]
    }
   ],
   "source": [
    "ca = [10, 17, 13, 11]\n",
    "\n",
    "maxc = ca[0]\n",
    "for sb in range(1, len(ca)):\n",
    "    if maxc < ca[sb]:\n",
    "        maxc = ca[sb]\n",
    "\n",
    "print(maxc)"
   ]
  },
  {
   "cell_type": "code",
   "execution_count": 5,
   "id": "119907f4-fedd-4076-a33c-bf176bfe24c1",
   "metadata": {},
   "outputs": [
    {
     "data": {
      "text/plain": [
       "17"
      ]
     },
     "execution_count": 5,
     "metadata": {},
     "output_type": "execute_result"
    }
   ],
   "source": [
    "ca = [10, 17, 13, 11]\n",
    "max(ca)"
   ]
  },
  {
   "cell_type": "markdown",
   "id": "2f1357b2-2452-41d4-bb97-363aed683ce2",
   "metadata": {},
   "source": [
    "# 원소의 정렬(sort)"
   ]
  },
  {
   "cell_type": "code",
   "execution_count": 7,
   "id": "4455487d-91a9-4dfe-9fba-b0194df91c02",
   "metadata": {},
   "outputs": [
    {
     "name": "stdout",
     "output_type": "stream",
     "text": [
      "[10, 21, 11, 15, 13]\n"
     ]
    }
   ],
   "source": [
    "ca = [21, 10, 11, 15, 13]\n",
    "\n",
    "mina = ca[0]\n",
    "minix = 0\n",
    "\n",
    "for sb in range(1, len(ca)):\n",
    "    if mina > ca[sb]:\n",
    "        mina = ca[sb]\n",
    "        minix = sb\n",
    "        \n",
    "temp = ca[0]\n",
    "ca[0] = ca[minix]\n",
    "ca[minix] = temp\n",
    "\n",
    "print(ca)"
   ]
  },
  {
   "cell_type": "code",
   "execution_count": 8,
   "id": "bb921352-b44d-4b89-8042-f9288174a344",
   "metadata": {},
   "outputs": [
    {
     "name": "stdout",
     "output_type": "stream",
     "text": [
      "[10, 11, 21, 15, 13]\n"
     ]
    }
   ],
   "source": [
    "mina = ca[1]\n",
    "minix = 1\n",
    "\n",
    "for sb in range(2, len(ca)):\n",
    "    if mina > ca[sb]:\n",
    "        mina = ca[sb]\n",
    "        minix = sb\n",
    "\n",
    "temp = ca[1]\n",
    "ca[1] = ca[minix]\n",
    "ca[minix] = temp\n",
    "\n",
    "print(ca)"
   ]
  },
  {
   "cell_type": "code",
   "execution_count": 12,
   "id": "10175190-9764-43b6-8c03-842fec4b1b09",
   "metadata": {},
   "outputs": [
    {
     "name": "stdout",
     "output_type": "stream",
     "text": [
      "[10, 21, 11, 15, 13]\n",
      "[10, 11, 21, 15, 13]\n",
      "[10, 11, 13, 15, 21]\n",
      "[10, 11, 13, 15, 21]\n"
     ]
    }
   ],
   "source": [
    "ca = [21, 10, 11, 15, 13]\n",
    "\n",
    "for sa in range(0, len(ca)-1):\n",
    "    mina = ca[sa]\n",
    "    minix = sa\n",
    "\n",
    "    for sb in range(sa+1, len(ca)):\n",
    "        if mina > ca[sb]:\n",
    "            mina = ca[sb]\n",
    "            minix = sb\n",
    "        \n",
    "    temp = ca[sa]\n",
    "    ca[sa] = ca[minix]\n",
    "    ca[minix] = temp\n",
    "\n",
    "    print(ca)"
   ]
  },
  {
   "cell_type": "code",
   "execution_count": 9,
   "id": "ae294c21-70e5-4d33-91cd-132fc660836a",
   "metadata": {},
   "outputs": [
    {
     "name": "stdout",
     "output_type": "stream",
     "text": [
      "[10, 11, 13, 15, 21]\n"
     ]
    }
   ],
   "source": [
    "def user_sort(ca):\n",
    "    for sa in range(0, len(ca)-1):\n",
    "        mina = ca[sa]\n",
    "        minix = sa\n",
    "\n",
    "        for sb in range(sa+1, len(ca)):\n",
    "            if mina > ca[sb]:\n",
    "                mina = ca[sb]\n",
    "                minix = sb\n",
    "        \n",
    "        temp = ca[sa]\n",
    "        ca[sa] = ca[minix]\n",
    "        ca[minix] = temp\n",
    "\n",
    "ca = [21, 10, 11, 15, 13]\n",
    "user_sort(ca)\n",
    "print(ca)"
   ]
  },
  {
   "cell_type": "code",
   "execution_count": 15,
   "id": "be8c3c26-763f-4f8d-809e-6a5bef27311d",
   "metadata": {},
   "outputs": [
    {
     "name": "stdout",
     "output_type": "stream",
     "text": [
      "[10, 11, 13, 15, 21]\n"
     ]
    }
   ],
   "source": [
    "ca = [21, 10, 11, 15, 13]\n",
    "ca.sort()\n",
    "print(ca)"
   ]
  },
  {
   "cell_type": "code",
   "execution_count": 16,
   "id": "b678cbb7-7bfc-4589-82c7-ce246c95deac",
   "metadata": {},
   "outputs": [
    {
     "name": "stdout",
     "output_type": "stream",
     "text": [
      "[21, 15, 13, 11, 10]\n"
     ]
    }
   ],
   "source": [
    "ca = [21, 10, 11, 15, 13]\n",
    "ca.sort(reverse=True)\n",
    "print(ca)"
   ]
  },
  {
   "cell_type": "markdown",
   "id": "db48f0da-6a52-4f7b-8dad-4b76faf7037e",
   "metadata": {},
   "source": [
    "# 딕셔너리를 매개변수로 사용하는 방법\n",
    "딕셔너리는 (key, value)"
   ]
  },
  {
   "cell_type": "code",
   "execution_count": 12,
   "id": "8280345c-1a6e-4333-a6fc-a9880e0ced08",
   "metadata": {},
   "outputs": [
    {
     "name": "stdout",
     "output_type": "stream",
     "text": [
      "{'mon': '월', 'tue': '화', 'wed': '수'}\n"
     ]
    }
   ],
   "source": [
    "a = {\"mon\" : '월', \"tue\" : '화', \"wed\" : '수'}\n",
    "print(a)"
   ]
  },
  {
   "cell_type": "code",
   "execution_count": 13,
   "id": "dbc89cb5-70b5-4c21-b797-2864805a35cb",
   "metadata": {},
   "outputs": [
    {
     "name": "stdout",
     "output_type": "stream",
     "text": [
      "{'mon': '월', 'tue': '화', 'wed': '수'}\n"
     ]
    }
   ],
   "source": [
    "x = a\n",
    "print(x)"
   ]
  },
  {
   "cell_type": "code",
   "execution_count": 14,
   "id": "6ceab762-bce1-44e2-95aa-e16fec4e452d",
   "metadata": {},
   "outputs": [
    {
     "name": "stdout",
     "output_type": "stream",
     "text": [
      "{'mon': '일', 'tue': '화', 'wed': '수'}\n",
      "{'mon': '일', 'tue': '화', 'wed': '수'}\n"
     ]
    }
   ],
   "source": [
    "x['mon'] = '일'\n",
    "print(x)\n",
    "print(a)"
   ]
  },
  {
   "cell_type": "code",
   "execution_count": 15,
   "id": "964f6160-12d9-41bb-9f0f-7321e0e0347b",
   "metadata": {},
   "outputs": [
    {
     "name": "stdout",
     "output_type": "stream",
     "text": [
      "{'mon': '일', 'tue': '화', 'wed': '수'}\n"
     ]
    }
   ],
   "source": [
    "x = a\n",
    "print(x)"
   ]
  },
  {
   "cell_type": "code",
   "execution_count": 25,
   "id": "1f720647-e6d7-4026-b863-41c6c55d07bc",
   "metadata": {},
   "outputs": [],
   "source": [
    "def fch(x):\n",
    "    x['mon'] = '일'"
   ]
  },
  {
   "cell_type": "code",
   "execution_count": 33,
   "id": "d112546f-f6b8-4adb-8ca3-9a7530364f7e",
   "metadata": {},
   "outputs": [
    {
     "name": "stdout",
     "output_type": "stream",
     "text": [
      "{'mon': '월', 'tue': '화', 'wed': '수'}\n",
      "{'mon': '월', 'tue': '화', 'wed': '수'}\n"
     ]
    }
   ],
   "source": [
    "a = {\"mon\" : '월', \"tue\" : '화', \"wed\" : '수'}\n",
    "print(a)\n",
    "x = a\n",
    "print(x)"
   ]
  },
  {
   "cell_type": "code",
   "execution_count": 34,
   "id": "50d13d37-43c9-4244-b632-4448e887a83b",
   "metadata": {},
   "outputs": [
    {
     "name": "stdout",
     "output_type": "stream",
     "text": [
      "함수 실행 전 :  {'mon': '월', 'tue': '화', 'wed': '수'}\n",
      "함수 실행 후 :  {'mon': '일', 'tue': '화', 'wed': '수'}\n"
     ]
    }
   ],
   "source": [
    "print(\"함수 실행 전 : \", a)\n",
    "fch(a)\n",
    "print(\"함수 실행 후 : \", a)"
   ]
  },
  {
   "cell_type": "code",
   "execution_count": 31,
   "id": "145dbc52-485c-4111-883e-396828e24cf5",
   "metadata": {},
   "outputs": [
    {
     "name": "stdout",
     "output_type": "stream",
     "text": [
      "함수 실행 후 :  {'mon': '일', 'tue': '화', 'wed': '수'}\n"
     ]
    }
   ],
   "source": [
    "print(\"함수 실행 후 : \", x)"
   ]
  },
  {
   "cell_type": "markdown",
   "id": "5d4e2919-fd43-4cf1-a348-41d6c2b7d941",
   "metadata": {},
   "source": [
    "# *args 에서 \"*\"의 의미 : 매개변수가 유동적일때 \"*\" 사용함."
   ]
  },
  {
   "cell_type": "code",
   "execution_count": 36,
   "id": "6de149d1-3ccf-40d4-95d9-69d046249efc",
   "metadata": {},
   "outputs": [
    {
     "name": "stdout",
     "output_type": "stream",
     "text": [
      "1\n",
      "2\n",
      "3\n",
      "4\n",
      "5\n"
     ]
    }
   ],
   "source": [
    "def my_func(*args):\n",
    "    for arg in args:\n",
    "        print(arg)\n",
    "        \n",
    "my_func(1, 2, 3, 4, 5)"
   ]
  },
  {
   "cell_type": "code",
   "execution_count": 37,
   "id": "33d362c1-858e-48fb-a956-fc6d8c81034d",
   "metadata": {},
   "outputs": [
    {
     "name": "stdout",
     "output_type": "stream",
     "text": [
      "1\n",
      "2\n",
      "3\n"
     ]
    }
   ],
   "source": [
    "my_func(1, 2, 3)"
   ]
  },
  {
   "cell_type": "code",
   "execution_count": 38,
   "id": "c9fff393-6989-4ee5-89a7-b9050e1dfc38",
   "metadata": {},
   "outputs": [
    {
     "name": "stdout",
     "output_type": "stream",
     "text": [
      "1\n",
      "2\n",
      "3\n",
      "4\n",
      "5\n"
     ]
    }
   ],
   "source": [
    "def my_func(*xch):\n",
    "    for arg in xch:\n",
    "        print(arg)\n",
    "        \n",
    "my_func(1, 2, 3, 4, 5)"
   ]
  },
  {
   "cell_type": "markdown",
   "id": "558998fd-8912-4d51-9446-4e55d044cb44",
   "metadata": {},
   "source": [
    "## **kwargs에서 \"**\" 의미 : 딕셔너리 데이터를 파라미터로 사용하는데 (유동적)"
   ]
  },
  {
   "cell_type": "code",
   "execution_count": 17,
   "id": "b3b2080c-0a23-41b0-8080-b6424edac088",
   "metadata": {},
   "outputs": [],
   "source": [
    "def my_func(**kwargs):\n",
    "    for key, value in kwargs.items():\n",
    "        print('key : ', key, 'value : ', value)"
   ]
  },
  {
   "cell_type": "code",
   "execution_count": 18,
   "id": "857f7660-0ec2-4db8-9ead-84358415cfb6",
   "metadata": {},
   "outputs": [
    {
     "name": "stdout",
     "output_type": "stream",
     "text": [
      "key :  name value :  john\n",
      "key :  age value :  30\n",
      "key :  gender value :  Male\n",
      "key :  loc value :  서울시\n"
     ]
    }
   ],
   "source": [
    "my_func(name='john', age=30, gender='Male', loc='서울시')"
   ]
  },
  {
   "cell_type": "code",
   "execution_count": 19,
   "id": "ea4d2dc9-811b-49de-adbd-cac44499f7fe",
   "metadata": {},
   "outputs": [
    {
     "name": "stdout",
     "output_type": "stream",
     "text": [
      "key :  name value :  john\n",
      "key :  age value :  30\n",
      "key :  gender value :  Male\n"
     ]
    }
   ],
   "source": [
    "my_func(name='john', age=30, gender='Male')"
   ]
  },
  {
   "cell_type": "code",
   "execution_count": 20,
   "id": "51c0bf16-007f-4d14-b8eb-bb9ff844cf55",
   "metadata": {},
   "outputs": [],
   "source": [
    "def my_func(*args, **kwargs): # *, ** 는 순서가 바뀌면 안 됨\n",
    "    for arg in args:\n",
    "        print(arg)\n",
    "    for key, value in kwargs.items():\n",
    "        print('key : ', key, 'value : ', vlaue)"
   ]
  },
  {
   "cell_type": "code",
   "execution_count": 21,
   "id": "d55d26ca-81a2-4f07-b910-0e18b58a8070",
   "metadata": {},
   "outputs": [
    {
     "ename": "SyntaxError",
     "evalue": "arguments cannot follow var-keyword argument (2604955957.py, line 1)",
     "output_type": "error",
     "traceback": [
      "\u001b[1;36m  Cell \u001b[1;32mIn[21], line 1\u001b[1;36m\u001b[0m\n\u001b[1;33m    def my_func(**kwargs, *args):   # *, ** 는 순서가 바뀌 안됨\u001b[0m\n\u001b[1;37m                          ^\u001b[0m\n\u001b[1;31mSyntaxError\u001b[0m\u001b[1;31m:\u001b[0m arguments cannot follow var-keyword argument\n"
     ]
    }
   ],
   "source": [
    "def my_func(**kwargs, *args):   # *, ** 는 순서가 바뀌 안됨\n",
    "    for arg in args:\n",
    "        print(arg)\n",
    "    for key, value in kwargs.items():\n",
    "        print('key : ', key, ' value : ', value)"
   ]
  },
  {
   "cell_type": "code",
   "execution_count": 25,
   "id": "cb1f1b5b-8962-42d0-8d39-12f7c5f1b80c",
   "metadata": {},
   "outputs": [],
   "source": [
    "def my_func(*a, **b):   # *, ** 는 순서가 바뀌 안됨\n",
    "    for arg in a:\n",
    "        print(arg)\n",
    "    for key, value in b.items():\n",
    "        print('key : ', key, ' value : ', value)"
   ]
  },
  {
   "cell_type": "code",
   "execution_count": 26,
   "id": "0a3c31fc-7575-4daf-81b8-59f039511f6b",
   "metadata": {},
   "outputs": [
    {
     "name": "stdout",
     "output_type": "stream",
     "text": [
      "1\n",
      "2\n",
      "3\n",
      "4\n",
      "5\n",
      "key :  name  value :  john\n",
      "key :  age  value :  30\n",
      "key :  gender  value :  Male\n"
     ]
    }
   ],
   "source": [
    "my_func(1,2,3,4,5, name='john', age=30, gender='Male')"
   ]
  },
  {
   "cell_type": "code",
   "execution_count": null,
   "id": "32c824f4-d962-4434-8c9c-2fb30e5532e2",
   "metadata": {},
   "outputs": [],
   "source": []
  }
 ],
 "metadata": {
  "kernelspec": {
   "display_name": "Python 3 (ipykernel)",
   "language": "python",
   "name": "python3"
  },
  "language_info": {
   "codemirror_mode": {
    "name": "ipython",
    "version": 3
   },
   "file_extension": ".py",
   "mimetype": "text/x-python",
   "name": "python",
   "nbconvert_exporter": "python",
   "pygments_lexer": "ipython3",
   "version": "3.12.8"
  }
 },
 "nbformat": 4,
 "nbformat_minor": 5
}
